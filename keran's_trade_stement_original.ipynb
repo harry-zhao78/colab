{
  "nbformat": 4,
  "nbformat_minor": 0,
  "metadata": {
    "colab": {
      "name": " keran's trade stement original",
      "provenance": [],
      "collapsed_sections": [],
      "authorship_tag": "ABX9TyP0IdJUuFYIVOwWd58YDxf2",
      "include_colab_link": true
    },
    "kernelspec": {
      "name": "python3",
      "display_name": "Python 3"
    }
  },
  "cells": [
    {
      "cell_type": "markdown",
      "metadata": {
        "id": "view-in-github",
        "colab_type": "text"
      },
      "source": [
        "<a href=\"https://colab.research.google.com/github/harry-zhao78/colab/blob/master/keran's_trade_stement_original.ipynb\" target=\"_parent\"><img src=\"https://colab.research.google.com/assets/colab-badge.svg\" alt=\"Open In Colab\"/></a>"
      ]
    },
    {
      "cell_type": "code",
      "metadata": {
        "id": "VG9BqjT18Arh",
        "colab_type": "code",
        "colab": {
          "base_uri": "https://localhost:8080/",
          "height": 921
        },
        "outputId": "b696ff52-e7c3-4844-8829-d9bb1e431c09"
      },
      "source": [
        "!pip install pyfolio\n",
        "import pyfolio as pf\n",
        "import matplotlib.pyplot as plt\n",
        "import empyrical\n",
        "import pandas as pd\n",
        "import numpy as np\n",
        "from matplotlib import pyplot as plt\n",
        "from google.colab import files\n",
        "\n"
      ],
      "execution_count": null,
      "outputs": [
        {
          "output_type": "stream",
          "text": [
            "Collecting pyfolio\n",
            "\u001b[?25l  Downloading https://files.pythonhosted.org/packages/28/b4/99799b743c4619752f88b70354924132a2e9b82f4656fe7c55eaa9101392/pyfolio-0.9.2.tar.gz (91kB)\n",
            "\r\u001b[K     |███▋                            | 10kB 14.5MB/s eta 0:00:01\r\u001b[K     |███████▏                        | 20kB 1.7MB/s eta 0:00:01\r\u001b[K     |██████████▉                     | 30kB 2.1MB/s eta 0:00:01\r\u001b[K     |██████████████▍                 | 40kB 2.5MB/s eta 0:00:01\r\u001b[K     |██████████████████              | 51kB 1.9MB/s eta 0:00:01\r\u001b[K     |█████████████████████▋          | 61kB 2.2MB/s eta 0:00:01\r\u001b[K     |█████████████████████████▏      | 71kB 2.4MB/s eta 0:00:01\r\u001b[K     |████████████████████████████▊   | 81kB 2.7MB/s eta 0:00:01\r\u001b[K     |████████████████████████████████| 92kB 2.3MB/s \n",
            "\u001b[?25hRequirement already satisfied: ipython>=3.2.3 in /usr/local/lib/python3.6/dist-packages (from pyfolio) (5.5.0)\n",
            "Requirement already satisfied: matplotlib>=1.4.0 in /usr/local/lib/python3.6/dist-packages (from pyfolio) (3.2.2)\n",
            "Requirement already satisfied: numpy>=1.11.1 in /usr/local/lib/python3.6/dist-packages (from pyfolio) (1.18.5)\n",
            "Requirement already satisfied: pandas>=0.18.1 in /usr/local/lib/python3.6/dist-packages (from pyfolio) (1.0.5)\n",
            "Requirement already satisfied: pytz>=2014.10 in /usr/local/lib/python3.6/dist-packages (from pyfolio) (2018.9)\n",
            "Requirement already satisfied: scipy>=0.14.0 in /usr/local/lib/python3.6/dist-packages (from pyfolio) (1.4.1)\n",
            "Requirement already satisfied: scikit-learn>=0.16.1 in /usr/local/lib/python3.6/dist-packages (from pyfolio) (0.22.2.post1)\n",
            "Requirement already satisfied: seaborn>=0.7.1 in /usr/local/lib/python3.6/dist-packages (from pyfolio) (0.10.1)\n",
            "Collecting empyrical>=0.5.0\n",
            "\u001b[?25l  Downloading https://files.pythonhosted.org/packages/84/9e/9506e8b25464ff57ef93b5ba9092b464b44dc76b717695b126b3c93214a2/empyrical-0.5.3.tar.gz (50kB)\n",
            "\u001b[K     |████████████████████████████████| 51kB 4.1MB/s \n",
            "\u001b[?25hRequirement already satisfied: decorator in /usr/local/lib/python3.6/dist-packages (from ipython>=3.2.3->pyfolio) (4.4.2)\n",
            "Requirement already satisfied: prompt-toolkit<2.0.0,>=1.0.4 in /usr/local/lib/python3.6/dist-packages (from ipython>=3.2.3->pyfolio) (1.0.18)\n",
            "Requirement already satisfied: pickleshare in /usr/local/lib/python3.6/dist-packages (from ipython>=3.2.3->pyfolio) (0.7.5)\n",
            "Requirement already satisfied: simplegeneric>0.8 in /usr/local/lib/python3.6/dist-packages (from ipython>=3.2.3->pyfolio) (0.8.1)\n",
            "Requirement already satisfied: traitlets>=4.2 in /usr/local/lib/python3.6/dist-packages (from ipython>=3.2.3->pyfolio) (4.3.3)\n",
            "Requirement already satisfied: pexpect; sys_platform != \"win32\" in /usr/local/lib/python3.6/dist-packages (from ipython>=3.2.3->pyfolio) (4.8.0)\n",
            "Requirement already satisfied: pygments in /usr/local/lib/python3.6/dist-packages (from ipython>=3.2.3->pyfolio) (2.1.3)\n",
            "Requirement already satisfied: setuptools>=18.5 in /usr/local/lib/python3.6/dist-packages (from ipython>=3.2.3->pyfolio) (49.1.0)\n",
            "Requirement already satisfied: cycler>=0.10 in /usr/local/lib/python3.6/dist-packages (from matplotlib>=1.4.0->pyfolio) (0.10.0)\n",
            "Requirement already satisfied: pyparsing!=2.0.4,!=2.1.2,!=2.1.6,>=2.0.1 in /usr/local/lib/python3.6/dist-packages (from matplotlib>=1.4.0->pyfolio) (2.4.7)\n",
            "Requirement already satisfied: kiwisolver>=1.0.1 in /usr/local/lib/python3.6/dist-packages (from matplotlib>=1.4.0->pyfolio) (1.2.0)\n",
            "Requirement already satisfied: python-dateutil>=2.1 in /usr/local/lib/python3.6/dist-packages (from matplotlib>=1.4.0->pyfolio) (2.8.1)\n",
            "Requirement already satisfied: joblib>=0.11 in /usr/local/lib/python3.6/dist-packages (from scikit-learn>=0.16.1->pyfolio) (0.16.0)\n",
            "Requirement already satisfied: pandas-datareader>=0.2 in /usr/local/lib/python3.6/dist-packages (from empyrical>=0.5.0->pyfolio) (0.8.1)\n",
            "Requirement already satisfied: wcwidth in /usr/local/lib/python3.6/dist-packages (from prompt-toolkit<2.0.0,>=1.0.4->ipython>=3.2.3->pyfolio) (0.2.5)\n",
            "Requirement already satisfied: six>=1.9.0 in /usr/local/lib/python3.6/dist-packages (from prompt-toolkit<2.0.0,>=1.0.4->ipython>=3.2.3->pyfolio) (1.12.0)\n",
            "Requirement already satisfied: ipython-genutils in /usr/local/lib/python3.6/dist-packages (from traitlets>=4.2->ipython>=3.2.3->pyfolio) (0.2.0)\n",
            "Requirement already satisfied: ptyprocess>=0.5 in /usr/local/lib/python3.6/dist-packages (from pexpect; sys_platform != \"win32\"->ipython>=3.2.3->pyfolio) (0.6.0)\n",
            "Requirement already satisfied: requests>=2.3.0 in /usr/local/lib/python3.6/dist-packages (from pandas-datareader>=0.2->empyrical>=0.5.0->pyfolio) (2.23.0)\n",
            "Requirement already satisfied: lxml in /usr/local/lib/python3.6/dist-packages (from pandas-datareader>=0.2->empyrical>=0.5.0->pyfolio) (4.2.6)\n",
            "Requirement already satisfied: chardet<4,>=3.0.2 in /usr/local/lib/python3.6/dist-packages (from requests>=2.3.0->pandas-datareader>=0.2->empyrical>=0.5.0->pyfolio) (3.0.4)\n",
            "Requirement already satisfied: idna<3,>=2.5 in /usr/local/lib/python3.6/dist-packages (from requests>=2.3.0->pandas-datareader>=0.2->empyrical>=0.5.0->pyfolio) (2.10)\n",
            "Requirement already satisfied: urllib3!=1.25.0,!=1.25.1,<1.26,>=1.21.1 in /usr/local/lib/python3.6/dist-packages (from requests>=2.3.0->pandas-datareader>=0.2->empyrical>=0.5.0->pyfolio) (1.24.3)\n",
            "Requirement already satisfied: certifi>=2017.4.17 in /usr/local/lib/python3.6/dist-packages (from requests>=2.3.0->pandas-datareader>=0.2->empyrical>=0.5.0->pyfolio) (2020.6.20)\n",
            "Building wheels for collected packages: pyfolio, empyrical\n",
            "  Building wheel for pyfolio (setup.py) ... \u001b[?25l\u001b[?25hdone\n",
            "  Created wheel for pyfolio: filename=pyfolio-0.9.2-cp36-none-any.whl size=88668 sha256=c8ac7574d2ee127363b12a560b9ee95e9d2f12e63f977b756d69e311ef6cd5ae\n",
            "  Stored in directory: /root/.cache/pip/wheels/0d/a8/7d/ac33fe6bf6f3db370291c9de303460d00b8f97cc40a1d80f72\n",
            "  Building wheel for empyrical (setup.py) ... \u001b[?25l\u001b[?25hdone\n",
            "  Created wheel for empyrical: filename=empyrical-0.5.3-cp36-none-any.whl size=37087 sha256=9e38bf9ac2a4d3238df939141b4f78f6137dc406ee2c52023d50e49fa22fdd3a\n",
            "  Stored in directory: /root/.cache/pip/wheels/10/a4/3b/951bd609878a82fd72b9ea23699daf1eaada4ff6f583152876\n",
            "Successfully built pyfolio empyrical\n",
            "Installing collected packages: empyrical, pyfolio\n",
            "Successfully installed empyrical-0.5.3 pyfolio-0.9.2\n"
          ],
          "name": "stdout"
        },
        {
          "output_type": "stream",
          "text": [
            "/usr/local/lib/python3.6/dist-packages/pandas_datareader/compat/__init__.py:7: FutureWarning: pandas.util.testing is deprecated. Use the functions in the public API at pandas.testing instead.\n",
            "  from pandas.util.testing import assert_frame_equal\n",
            "/usr/local/lib/python3.6/dist-packages/pyfolio/pos.py:28: UserWarning: Module \"zipline.assets\" not found; mutltipliers will not be applied to position notionals.\n",
            "  ' to position notionals.'\n"
          ],
          "name": "stderr"
        }
      ]
    },
    {
      "cell_type": "code",
      "metadata": {
        "id": "6pzJAm4AxR9J",
        "colab_type": "code",
        "colab": {
          "resources": {
            "http://localhost:8080/nbextensions/google.colab/files.js": {
              "data": "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",
              "ok": true,
              "headers": [
                [
                  "content-type",
                  "application/javascript"
                ]
              ],
              "status": 200,
              "status_text": ""
            }
          },
          "base_uri": "https://localhost:8080/",
          "height": 72
        },
        "outputId": "2a4256bc-7bba-4996-90fa-e56f06d90d28"
      },
      "source": [
        "uploaded = files.upload()"
      ],
      "execution_count": null,
      "outputs": [
        {
          "output_type": "display_data",
          "data": {
            "text/html": [
              "\n",
              "     <input type=\"file\" id=\"files-8579cf45-5288-44e4-8b09-ae84e0190e54\" name=\"files[]\" multiple disabled\n",
              "        style=\"border:none\" />\n",
              "     <output id=\"result-8579cf45-5288-44e4-8b09-ae84e0190e54\">\n",
              "      Upload widget is only available when the cell has been executed in the\n",
              "      current browser session. Please rerun this cell to enable.\n",
              "      </output>\n",
              "      <script src=\"/nbextensions/google.colab/files.js\"></script> "
            ],
            "text/plain": [
              "<IPython.core.display.HTML object>"
            ]
          },
          "metadata": {
            "tags": []
          }
        },
        {
          "output_type": "stream",
          "text": [
            "Saving trading statement.csv to trading statement.csv\n"
          ],
          "name": "stdout"
        }
      ]
    },
    {
      "cell_type": "code",
      "metadata": {
        "id": "_NSNM96q8Ihb",
        "colab_type": "code",
        "colab": {
          "base_uri": "https://localhost:8080/",
          "height": 436
        },
        "outputId": "e549d009-6b6f-4292-f033-bd72916f4ff7"
      },
      "source": [
        "\n",
        "df1 = pd.read_csv(\"trading statement.csv\",parse_dates=True)\n",
        "#df1 = pd.read_csv(\"test.csv\")\n",
        "\n",
        "df2=df1\n",
        "df2"
      ],
      "execution_count": null,
      "outputs": [
        {
          "output_type": "execute_result",
          "data": {
            "text/html": [
              "<div>\n",
              "<style scoped>\n",
              "    .dataframe tbody tr th:only-of-type {\n",
              "        vertical-align: middle;\n",
              "    }\n",
              "\n",
              "    .dataframe tbody tr th {\n",
              "        vertical-align: top;\n",
              "    }\n",
              "\n",
              "    .dataframe thead th {\n",
              "        text-align: right;\n",
              "    }\n",
              "</style>\n",
              "<table border=\"1\" class=\"dataframe\">\n",
              "  <thead>\n",
              "    <tr style=\"text-align: right;\">\n",
              "      <th></th>\n",
              "      <th>Transaction Date</th>\n",
              "      <th>Stock Code</th>\n",
              "      <th>Name of Stock</th>\n",
              "      <th>Type of Transaction</th>\n",
              "      <th>Transaction Price</th>\n",
              "      <th>Volume of Trade</th>\n",
              "      <th>Number of Shares in Account</th>\n",
              "      <th>Transaction Amount</th>\n",
              "      <th>Comission fee + Transcation Amount</th>\n",
              "      <th>Remaining Cash in Account</th>\n",
              "    </tr>\n",
              "  </thead>\n",
              "  <tbody>\n",
              "    <tr>\n",
              "      <th>0</th>\n",
              "      <td>20160112</td>\n",
              "      <td>600528</td>\n",
              "      <td>中铁二局</td>\n",
              "      <td>Buy</td>\n",
              "      <td>14.11</td>\n",
              "      <td>400</td>\n",
              "      <td>400</td>\n",
              "      <td>5644.0</td>\n",
              "      <td>-5649.11</td>\n",
              "      <td>13560.66</td>\n",
              "    </tr>\n",
              "    <tr>\n",
              "      <th>1</th>\n",
              "      <td>20160112</td>\n",
              "      <td>601198</td>\n",
              "      <td>东兴证券</td>\n",
              "      <td>Buy</td>\n",
              "      <td>27.39</td>\n",
              "      <td>200</td>\n",
              "      <td>200</td>\n",
              "      <td>5478.0</td>\n",
              "      <td>-5483.11</td>\n",
              "      <td>8077.55</td>\n",
              "    </tr>\n",
              "    <tr>\n",
              "      <th>2</th>\n",
              "      <td>20160112</td>\n",
              "      <td>600528</td>\n",
              "      <td>中铁二局</td>\n",
              "      <td>Buy</td>\n",
              "      <td>14.01</td>\n",
              "      <td>500</td>\n",
              "      <td>900</td>\n",
              "      <td>7005.0</td>\n",
              "      <td>-7010.14</td>\n",
              "      <td>1067.41</td>\n",
              "    </tr>\n",
              "    <tr>\n",
              "      <th>3</th>\n",
              "      <td>20160122</td>\n",
              "      <td>600528</td>\n",
              "      <td>中铁二局</td>\n",
              "      <td>Sell</td>\n",
              "      <td>15.07</td>\n",
              "      <td>500</td>\n",
              "      <td>400</td>\n",
              "      <td>7535.0</td>\n",
              "      <td>7522.31</td>\n",
              "      <td>8589.72</td>\n",
              "    </tr>\n",
              "    <tr>\n",
              "      <th>4</th>\n",
              "      <td>20160122</td>\n",
              "      <td>601198</td>\n",
              "      <td>东兴证券</td>\n",
              "      <td>Sell</td>\n",
              "      <td>24.12</td>\n",
              "      <td>200</td>\n",
              "      <td>0</td>\n",
              "      <td>4824.0</td>\n",
              "      <td>4814.08</td>\n",
              "      <td>13403.80</td>\n",
              "    </tr>\n",
              "    <tr>\n",
              "      <th>...</th>\n",
              "      <td>...</td>\n",
              "      <td>...</td>\n",
              "      <td>...</td>\n",
              "      <td>...</td>\n",
              "      <td>...</td>\n",
              "      <td>...</td>\n",
              "      <td>...</td>\n",
              "      <td>...</td>\n",
              "      <td>...</td>\n",
              "      <td>...</td>\n",
              "    </tr>\n",
              "    <tr>\n",
              "      <th>169</th>\n",
              "      <td>20200409</td>\n",
              "      <td>600335</td>\n",
              "      <td>国机汽车</td>\n",
              "      <td>Sell</td>\n",
              "      <td>5.55</td>\n",
              "      <td>500</td>\n",
              "      <td>0</td>\n",
              "      <td>2775.0</td>\n",
              "      <td>2767.17</td>\n",
              "      <td>43029.81</td>\n",
              "    </tr>\n",
              "    <tr>\n",
              "      <th>170</th>\n",
              "      <td>20200413</td>\n",
              "      <td>600683</td>\n",
              "      <td>京投发展</td>\n",
              "      <td>Buy</td>\n",
              "      <td>4.19</td>\n",
              "      <td>1000</td>\n",
              "      <td>1000</td>\n",
              "      <td>4190.0</td>\n",
              "      <td>-4195.08</td>\n",
              "      <td>38834.73</td>\n",
              "    </tr>\n",
              "    <tr>\n",
              "      <th>171</th>\n",
              "      <td>20200413</td>\n",
              "      <td>2444</td>\n",
              "      <td>巨星科技</td>\n",
              "      <td>Buy</td>\n",
              "      <td>10.56</td>\n",
              "      <td>2000</td>\n",
              "      <td>2000</td>\n",
              "      <td>21120.0</td>\n",
              "      <td>-21126.34</td>\n",
              "      <td>17708.39</td>\n",
              "    </tr>\n",
              "    <tr>\n",
              "      <th>172</th>\n",
              "      <td>20200424</td>\n",
              "      <td>600683</td>\n",
              "      <td>京投发展</td>\n",
              "      <td>Sell</td>\n",
              "      <td>3.87</td>\n",
              "      <td>1000</td>\n",
              "      <td>0</td>\n",
              "      <td>3870.0</td>\n",
              "      <td>3861.05</td>\n",
              "      <td>21569.44</td>\n",
              "    </tr>\n",
              "    <tr>\n",
              "      <th>173</th>\n",
              "      <td>20200424</td>\n",
              "      <td>2444</td>\n",
              "      <td>巨星科技</td>\n",
              "      <td>Sell</td>\n",
              "      <td>9.69</td>\n",
              "      <td>2000</td>\n",
              "      <td>0</td>\n",
              "      <td>19380.0</td>\n",
              "      <td>19354.80</td>\n",
              "      <td>40924.24</td>\n",
              "    </tr>\n",
              "  </tbody>\n",
              "</table>\n",
              "<p>174 rows × 10 columns</p>\n",
              "</div>"
            ],
            "text/plain": [
              "     Transaction Date  ...  Remaining Cash in Account \n",
              "0            20160112  ...                    13560.66\n",
              "1            20160112  ...                     8077.55\n",
              "2            20160112  ...                     1067.41\n",
              "3            20160122  ...                     8589.72\n",
              "4            20160122  ...                    13403.80\n",
              "..                ...  ...                         ...\n",
              "169          20200409  ...                    43029.81\n",
              "170          20200413  ...                    38834.73\n",
              "171          20200413  ...                    17708.39\n",
              "172          20200424  ...                    21569.44\n",
              "173          20200424  ...                    40924.24\n",
              "\n",
              "[174 rows x 10 columns]"
            ]
          },
          "metadata": {
            "tags": []
          },
          "execution_count": 15
        }
      ]
    },
    {
      "cell_type": "code",
      "metadata": {
        "id": "fVd4HpJjHiqt",
        "colab_type": "code",
        "colab": {}
      },
      "source": [
        "df2[(df2[\"Type of Transaction\"]!=\"Buy\") & ( df2[\"Type of Transaction\"]!=\"Sell\")]\n",
        "a=df2.drop(index=109)\n",
        "a.index\n",
        "b=a.reset_index()\n",
        "df=b.drop(columns=\"index\")"
      ],
      "execution_count": null,
      "outputs": []
    },
    {
      "cell_type": "code",
      "metadata": {
        "id": "sY_ctvhIyJtN",
        "colab_type": "code",
        "colab": {
          "base_uri": "https://localhost:8080/",
          "height": 1000
        },
        "outputId": "f53ae0e8-bdff-4ddc-c4fb-bfb5ea06aff2"
      },
      "source": [
        "stock_list=df[\" Name of Stock\"].unique()\n",
        "\n",
        "#df[\"buy port\"] = [{} for _ in range(len(df))]\n",
        "df[\"port_value\"] = \"\"\n",
        "df[\"account_value\"] = \"\"\n",
        "\n",
        "a={}\n",
        "port_value=0\n",
        "for index, row in df.iterrows():\n",
        "  \n",
        "  a[row[\" Name of Stock\"]]=[row[\"Number of Shares in Account\"],row[\"Transaction Price\"]]\n",
        "  print(row[\"Transaction Date\"],a)\n",
        "  port_value=0\n",
        "  for key, value in a.items():\n",
        "    \n",
        "    port_value=port_value+value[0]*value[1]\n",
        "   # print(value[0],value[1])\n",
        "    #print(port_value)    \n",
        "\n",
        "  account_value=row[\"Remaining Cash in Account \"]+port_value\n",
        "\n",
        "  df.loc[index,\"port_value\"]=port_value\n",
        "  df.loc[index,\"account_value\"]=account_value\n",
        "\n",
        "\n",
        "#df1=df.set_index(\"Transaction Date\")\n",
        "#df2=df1[[\"port_value\",\"account_value\"]]\n",
        "\n",
        "\n",
        "\n",
        "#for index, row in df.iterrows():\n",
        "  #df[index,\"perc_returns\"]=df[index,\"perc_returns\"]-df[index-1,\"perc_returns\"]\n",
        "\n",
        "df[\"perc_returns\"]=df.account_value.pct_change()\n",
        "df2=df[[\"Transaction Date\",\"port_value\",\"account_value\",\"perc_returns\"]]\n",
        "\n",
        "\n",
        "df2=df2.drop(index=0)\n",
        "#df2[\"Transaction Date\"]=df2[\"Transaction Date\"].apply(lambda x: pd.to_datetime( str(x), format='%Y%m%d', errors='ignore'))\n",
        "df2[\"Transaction Date\"]=df2[\"Transaction Date\"].apply(lambda x: pd.Series(pd.date_range(str(x), periods=2)))\n",
        "\n",
        "df2=df2.set_index(\"Transaction Date\")\n",
        "#df2.tail(60)\n"
      ],
      "execution_count": null,
      "outputs": [
        {
          "output_type": "stream",
          "text": [
            "20160112 {'中铁二局': [400, 14.11]}\n",
            "20160112 {'中铁二局': [400, 14.11], '东兴证券': [200, 27.39]}\n",
            "20160112 {'中铁二局': [900, 14.01], '东兴证券': [200, 27.39]}\n",
            "20160122 {'中铁二局': [400, 15.07], '东兴证券': [200, 27.39]}\n",
            "20160122 {'中铁二局': [400, 15.07], '东兴证券': [0, 24.12]}\n",
            "20160125 {'中铁二局': [200, 14.75], '东兴证券': [0, 24.12]}\n",
            "20160127 {'中铁二局': [100, 14.58], '东兴证券': [0, 24.12]}\n",
            "20160128 {'中铁二局': [300, 13.99], '东兴证券': [0, 24.12]}\n",
            "20160128 {'中铁二局': [800, 14.0], '东兴证券': [0, 24.12]}\n",
            "20160128 {'中铁二局': [1300, 13.86], '东兴证券': [0, 24.12]}\n",
            "20160217 {'中铁二局': [1000, 14.38], '东兴证券': [0, 24.12]}\n",
            "20160217 {'中铁二局': [800, 14.33], '东兴证券': [0, 24.12]}\n",
            "20160217 {'中铁二局': [600, 14.5], '东兴证券': [0, 24.12]}\n",
            "20160218 {'中铁二局': [300, 14.29], '东兴证券': [0, 24.12]}\n",
            "20160218 {'中铁二局': [100, 14.4], '东兴证券': [0, 24.12]}\n",
            "20160225 {'中铁二局': [300, 13.58], '东兴证券': [0, 24.12]}\n",
            "20160229 {'中铁二局': [500, 12.44], '东兴证券': [0, 24.12]}\n",
            "20160302 {'中铁二局': [300, 13.04], '东兴证券': [0, 24.12]}\n",
            "20160303 {'中铁二局': [100, 13.78], '东兴证券': [0, 24.12]}\n",
            "20160311 {'中铁二局': [300, 12.65], '东兴证券': [0, 24.12]}\n",
            "20160311 {'中铁二局': [600, 12.6], '东兴证券': [0, 24.12]}\n",
            "20160311 {'中铁二局': [600, 12.6], '东兴证券': [0, 24.12], '远大智能': [500, 7.85]}\n",
            "20160314 {'中铁二局': [100, 13.06], '东兴证券': [0, 24.12], '远大智能': [500, 7.85]}\n",
            "20160314 {'中铁二局': [100, 13.06], '东兴证券': [0, 24.12], '远大智能': [0, 8.09]}\n",
            "20160317 {'中铁二局': [800, 13.06], '东兴证券': [0, 24.12], '远大智能': [0, 8.09]}\n",
            "20160317 {'中铁二局': [800, 13.06], '东兴证券': [0, 24.12], '远大智能': [0, 8.09], '东吴证券': [300, 12.2]}\n",
            "20160317 {'中铁二局': [1200, 12.98], '东兴证券': [0, 24.12], '远大智能': [0, 8.09], '东吴证券': [300, 12.2]}\n",
            "20160318 {'中铁二局': [200, 13.38], '东兴证券': [0, 24.12], '远大智能': [0, 8.09], '东吴证券': [300, 12.2]}\n",
            "20160318 {'中铁二局': [200, 13.38], '东兴证券': [0, 24.12], '远大智能': [0, 8.09], '东吴证券': [0, 12.56]}\n",
            "20160318 {'中铁二局': [0, 13.56], '东兴证券': [0, 24.12], '远大智能': [0, 8.09], '东吴证券': [0, 12.56]}\n",
            "20160318 {'中铁二局': [100, 13.43], '东兴证券': [0, 24.12], '远大智能': [0, 8.09], '东吴证券': [0, 12.56]}\n",
            "20160321 {'中铁二局': [0, 14.33], '东兴证券': [0, 24.12], '远大智能': [0, 8.09], '东吴证券': [0, 12.56]}\n",
            "20160321 {'中铁二局': [100, 13.85], '东兴证券': [0, 24.12], '远大智能': [0, 8.09], '东吴证券': [0, 12.56]}\n",
            "20160329 {'中铁二局': [600, 13.3], '东兴证券': [0, 24.12], '远大智能': [0, 8.09], '东吴证券': [0, 12.56]}\n",
            "20160331 {'中铁二局': [100, 13.8], '东兴证券': [0, 24.12], '远大智能': [0, 8.09], '东吴证券': [0, 12.56]}\n",
            "20160407 {'中铁二局': [100, 13.8], '东兴证券': [0, 24.12], '远大智能': [0, 8.09], '东吴证券': [0, 12.56], '三一重工': [800, 5.68]}\n",
            "20160407 {'中铁二局': [100, 13.8], '东兴证券': [0, 24.12], '远大智能': [0, 8.09], '东吴证券': [0, 12.56], '三一重工': [1600, 5.67]}\n",
            "20160407 {'中铁二局': [100, 13.8], '东兴证券': [0, 24.12], '远大智能': [0, 8.09], '东吴证券': [0, 12.56], '三一重工': [3400, 5.66]}\n",
            "20160408 {'中铁二局': [100, 13.8], '东兴证券': [0, 24.12], '远大智能': [0, 8.09], '东吴证券': [0, 12.56], '三一重工': [0, 5.49]}\n",
            "20160413 {'中铁二局': [900, 13.65], '东兴证券': [0, 24.12], '远大智能': [0, 8.09], '东吴证券': [0, 12.56], '三一重工': [0, 5.49]}\n",
            "20160413 {'中铁二局': [900, 13.65], '东兴证券': [0, 24.12], '远大智能': [0, 8.09], '东吴证券': [0, 12.56], '三一重工': [0, 5.49], '兴业矿业': [300, 8.06]}\n",
            "20160414 {'中铁二局': [900, 13.65], '东兴证券': [0, 24.12], '远大智能': [0, 8.09], '东吴证券': [0, 12.56], '三一重工': [0, 5.49], '兴业矿业': [300, 8.06], '东方航空': [800, 6.29]}\n",
            "20160414 {'中铁二局': [0, 13.75], '东兴证券': [0, 24.12], '远大智能': [0, 8.09], '东吴证券': [0, 12.56], '三一重工': [0, 5.49], '兴业矿业': [300, 8.06], '东方航空': [800, 6.29]}\n",
            "20160414 {'中铁二局': [0, 13.75], '东兴证券': [0, 24.12], '远大智能': [0, 8.09], '东吴证券': [0, 12.56], '三一重工': [0, 5.49], '兴业矿业': [0, 8.36], '东方航空': [800, 6.29]}\n",
            "20160506 {'中铁二局': [0, 13.75], '东兴证券': [0, 24.12], '远大智能': [0, 8.09], '东吴证券': [0, 12.56], '三一重工': [0, 5.49], '兴业矿业': [0, 8.36], '东方航空': [400, 7.2]}\n",
            "20160506 {'中铁二局': [0, 13.75], '东兴证券': [0, 24.12], '远大智能': [0, 8.09], '东吴证券': [0, 12.56], '三一重工': [0, 5.49], '兴业矿业': [0, 8.36], '东方航空': [100, 7.21]}\n",
            "20160509 {'中铁二局': [0, 13.75], '东兴证券': [0, 24.12], '远大智能': [0, 8.09], '东吴证券': [0, 12.56], '三一重工': [0, 5.49], '兴业矿业': [0, 8.36], '东方航空': [0, 7.0]}\n",
            "20160704 {'中铁二局': [0, 13.75], '东兴证券': [0, 24.12], '远大智能': [0, 8.09], '东吴证券': [0, 12.56], '三一重工': [0, 5.49], '兴业矿业': [0, 8.36], '东方航空': [0, 7.0], '青岛海尔': [700, 9.15]}\n",
            "20160705 {'中铁二局': [0, 13.75], '东兴证券': [0, 24.12], '远大智能': [0, 8.09], '东吴证券': [0, 12.56], '三一重工': [0, 5.49], '兴业矿业': [0, 8.36], '东方航空': [0, 7.0], '青岛海尔': [700, 9.15], '云铝股份': [900, 7.49]}\n",
            "20160706 {'中铁二局': [0, 13.75], '东兴证券': [0, 24.12], '远大智能': [0, 8.09], '东吴证券': [0, 12.56], '三一重工': [0, 5.49], '兴业矿业': [0, 8.36], '东方航空': [0, 7.0], '青岛海尔': [0, 9.184], '云铝股份': [900, 7.49]}\n",
            "20160706 {'中铁二局': [0, 13.75], '东兴证券': [0, 24.12], '远大智能': [0, 8.09], '东吴证券': [0, 12.56], '三一重工': [0, 5.49], '兴业矿业': [0, 8.36], '东方航空': [0, 7.0], '青岛海尔': [0, 9.184], '云铝股份': [0, 7.19]}\n",
            "20160708 {'中铁二局': [0, 13.75], '东兴证券': [0, 24.12], '远大智能': [0, 8.09], '东吴证券': [0, 12.56], '三一重工': [0, 5.49], '兴业矿业': [0, 8.36], '东方航空': [0, 7.0], '青岛海尔': [0, 9.184], '云铝股份': [0, 7.19], '山鹰纸业': [1000, 2.94]}\n",
            "20160712 {'中铁二局': [0, 13.75], '东兴证券': [0, 24.12], '远大智能': [0, 8.09], '东吴证券': [0, 12.56], '三一重工': [0, 5.49], '兴业矿业': [0, 8.36], '东方航空': [0, 7.0], '青岛海尔': [0, 9.184], '云铝股份': [0, 7.19], '山鹰纸业': [0, 2.92]}\n",
            "20160801 {'中铁二局': [0, 13.75], '东兴证券': [0, 24.12], '远大智能': [0, 8.09], '东吴证券': [0, 12.56], '三一重工': [0, 5.49], '兴业矿业': [0, 8.36], '东方航空': [0, 7.0], '青岛海尔': [0, 9.184], '云铝股份': [0, 7.19], '山鹰纸业': [0, 2.92], '万通地产': [1600, 4.91]}\n",
            "20160801 {'中铁二局': [0, 13.75], '东兴证券': [0, 24.12], '远大智能': [0, 8.09], '东吴证券': [0, 12.56], '三一重工': [0, 5.49], '兴业矿业': [0, 8.36], '东方航空': [0, 7.0], '青岛海尔': [0, 9.184], '云铝股份': [0, 7.19], '山鹰纸业': [0, 2.92], '万通地产': [1600, 4.91], '光环新网': [100, 40.79]}\n",
            "20160801 {'中铁二局': [0, 13.75], '东兴证券': [0, 24.12], '远大智能': [0, 8.09], '东吴证券': [0, 12.56], '三一重工': [0, 5.49], '兴业矿业': [0, 8.36], '东方航空': [0, 7.0], '青岛海尔': [0, 9.184], '云铝股份': [0, 7.19], '山鹰纸业': [0, 2.92], '万通地产': [1600, 4.91], '光环新网': [100, 40.79], '西安民生': [800, 9.79]}\n",
            "20160802 {'中铁二局': [0, 13.75], '东兴证券': [0, 24.12], '远大智能': [0, 8.09], '东吴证券': [0, 12.56], '三一重工': [0, 5.49], '兴业矿业': [0, 8.36], '东方航空': [0, 7.0], '青岛海尔': [0, 9.184], '云铝股份': [0, 7.19], '山鹰纸业': [0, 2.92], '万通地产': [0, 4.92], '光环新网': [100, 40.79], '西安民生': [800, 9.79]}\n",
            "20160802 {'中铁二局': [0, 13.75], '东兴证券': [0, 24.12], '远大智能': [0, 8.09], '东吴证券': [0, 12.56], '三一重工': [0, 5.49], '兴业矿业': [0, 8.36], '东方航空': [0, 7.0], '青岛海尔': [0, 9.184], '云铝股份': [0, 7.19], '山鹰纸业': [0, 2.92], '万通地产': [0, 4.92], '光环新网': [0, 40.87], '西安民生': [800, 9.79]}\n",
            "20160802 {'中铁二局': [0, 13.75], '东兴证券': [0, 24.12], '远大智能': [0, 8.09], '东吴证券': [0, 12.56], '三一重工': [0, 5.49], '兴业矿业': [0, 8.36], '东方航空': [0, 7.0], '青岛海尔': [0, 9.184], '云铝股份': [0, 7.19], '山鹰纸业': [0, 2.92], '万通地产': [0, 4.92], '光环新网': [0, 40.87], '西安民生': [2000, 9.97]}\n",
            "20160810 {'中铁二局': [0, 13.75], '东兴证券': [0, 24.12], '远大智能': [0, 8.09], '东吴证券': [0, 12.56], '三一重工': [0, 5.49], '兴业矿业': [0, 8.36], '东方航空': [0, 7.0], '青岛海尔': [0, 9.184], '云铝股份': [0, 7.19], '山鹰纸业': [0, 2.92], '万通地产': [0, 4.92], '光环新网': [0, 40.87], '西安民生': [0, 10.05]}\n",
            "20160825 {'中铁二局': [0, 13.75], '东兴证券': [0, 24.12], '远大智能': [0, 8.09], '东吴证券': [0, 12.56], '三一重工': [0, 5.49], '兴业矿业': [0, 8.36], '东方航空': [0, 7.0], '青岛海尔': [0, 9.184], '云铝股份': [0, 7.19], '山鹰纸业': [0, 2.92], '万通地产': [0, 4.92], '光环新网': [0, 40.87], '西安民生': [0, 10.05], '山西证券': [700, 14.79]}\n",
            "20160825 {'中铁二局': [0, 13.75], '东兴证券': [0, 24.12], '远大智能': [0, 8.09], '东吴证券': [0, 12.56], '三一重工': [0, 5.49], '兴业矿业': [0, 8.36], '东方航空': [0, 7.0], '青岛海尔': [0, 9.184], '云铝股份': [0, 7.19], '山鹰纸业': [0, 2.92], '万通地产': [0, 4.92], '光环新网': [0, 40.87], '西安民生': [0, 10.05], '山西证券': [700, 14.79], '中 关 村': [1200, 8.53]}\n",
            "20160901 {'中铁二局': [0, 13.75], '东兴证券': [0, 24.12], '远大智能': [0, 8.09], '东吴证券': [0, 12.56], '三一重工': [0, 5.49], '兴业矿业': [0, 8.36], '东方航空': [0, 7.0], '青岛海尔': [0, 9.184], '云铝股份': [0, 7.19], '山鹰纸业': [0, 2.92], '万通地产': [0, 4.92], '光环新网': [0, 40.87], '西安民生': [0, 10.05], '山西证券': [700, 14.79], '中 关 村': [0, 8.63]}\n",
            "20160901 {'中铁二局': [0, 13.75], '东兴证券': [0, 24.12], '远大智能': [0, 8.09], '东吴证券': [0, 12.56], '三一重工': [0, 5.49], '兴业矿业': [0, 8.36], '东方航空': [0, 7.0], '青岛海尔': [0, 9.184], '云铝股份': [0, 7.19], '山鹰纸业': [0, 2.92], '万通地产': [0, 4.92], '光环新网': [0, 40.87], '西安民生': [0, 10.05], '山西证券': [0, 14.64], '中 关 村': [0, 8.63]}\n",
            "20160906 {'中铁二局': [0, 13.75], '东兴证券': [0, 24.12], '远大智能': [0, 8.09], '东吴证券': [0, 12.56], '三一重工': [0, 5.49], '兴业矿业': [0, 8.36], '东方航空': [0, 7.0], '青岛海尔': [0, 9.184], '云铝股份': [0, 7.19], '山鹰纸业': [0, 2.92], '万通地产': [0, 4.92], '光环新网': [0, 40.87], '西安民生': [0, 10.05], '山西证券': [0, 14.64], '中 关 村': [0, 8.63], '中航资本': [100, 7.08]}\n",
            "20160907 {'中铁二局': [0, 13.75], '东兴证券': [0, 24.12], '远大智能': [0, 8.09], '东吴证券': [0, 12.56], '三一重工': [0, 5.49], '兴业矿业': [0, 8.36], '东方航空': [0, 7.0], '青岛海尔': [0, 9.184], '云铝股份': [0, 7.19], '山鹰纸业': [0, 2.92], '万通地产': [0, 4.92], '光环新网': [0, 40.87], '西安民生': [0, 10.05], '山西证券': [0, 14.64], '中 关 村': [0, 8.63], '中航资本': [0, 6.94]}\n",
            "20160922 {'中铁二局': [0, 13.75], '东兴证券': [0, 24.12], '远大智能': [0, 8.09], '东吴证券': [0, 12.56], '三一重工': [0, 5.49], '兴业矿业': [0, 8.36], '东方航空': [0, 7.0], '青岛海尔': [0, 9.184], '云铝股份': [0, 7.19], '山鹰纸业': [0, 2.92], '万通地产': [0, 4.92], '光环新网': [0, 40.87], '西安民生': [0, 10.05], '山西证券': [0, 14.64], '中 关 村': [0, 8.63], '中航资本': [0, 6.94], '日出东方': [1000, 10.04]}\n",
            "20160922 {'中铁二局': [0, 13.75], '东兴证券': [0, 24.12], '远大智能': [0, 8.09], '东吴证券': [0, 12.56], '三一重工': [0, 5.49], '兴业矿业': [0, 8.36], '东方航空': [0, 7.0], '青岛海尔': [0, 9.184], '云铝股份': [0, 7.19], '山鹰纸业': [0, 2.92], '万通地产': [0, 4.92], '光环新网': [0, 40.87], '西安民生': [0, 10.05], '山西证券': [0, 14.64], '中 关 村': [0, 8.63], '中航资本': [0, 6.94], '日出东方': [1000, 10.04], '国元证券': [500, 19.78]}\n",
            "20160923 {'中铁二局': [0, 13.75], '东兴证券': [0, 24.12], '远大智能': [0, 8.09], '东吴证券': [0, 12.56], '三一重工': [0, 5.49], '兴业矿业': [0, 8.36], '东方航空': [0, 7.0], '青岛海尔': [0, 9.184], '云铝股份': [0, 7.19], '山鹰纸业': [0, 2.92], '万通地产': [0, 4.92], '光环新网': [0, 40.87], '西安民生': [0, 10.05], '山西证券': [0, 14.64], '中 关 村': [0, 8.63], '中航资本': [0, 6.94], '日出东方': [0, 10.357000000000001], '国元证券': [500, 19.78]}\n",
            "20160923 {'中铁二局': [0, 13.75], '东兴证券': [0, 24.12], '远大智能': [0, 8.09], '东吴证券': [0, 12.56], '三一重工': [0, 5.49], '兴业矿业': [0, 8.36], '东方航空': [0, 7.0], '青岛海尔': [0, 9.184], '云铝股份': [0, 7.19], '山鹰纸业': [0, 2.92], '万通地产': [0, 4.92], '光环新网': [0, 40.87], '西安民生': [0, 10.05], '山西证券': [0, 14.64], '中 关 村': [0, 8.63], '中航资本': [0, 6.94], '日出东方': [0, 10.357000000000001], '国元证券': [0, 19.98]}\n",
            "20160929 {'中铁二局': [0, 13.75], '东兴证券': [0, 24.12], '远大智能': [0, 8.09], '东吴证券': [0, 12.56], '三一重工': [0, 5.49], '兴业矿业': [0, 8.36], '东方航空': [0, 7.0], '青岛海尔': [0, 9.184], '云铝股份': [0, 7.19], '山鹰纸业': [0, 2.92], '万通地产': [0, 4.92], '光环新网': [0, 40.87], '西安民生': [0, 10.05], '山西证券': [0, 14.64], '中 关 村': [0, 8.63], '中航资本': [0, 6.94], '日出东方': [0, 10.357000000000001], '国元证券': [500, 20.25]}\n",
            "20160929 {'中铁二局': [0, 13.75], '东兴证券': [0, 24.12], '远大智能': [0, 8.09], '东吴证券': [0, 12.56], '三一重工': [0, 5.49], '兴业矿业': [0, 8.36], '东方航空': [0, 7.0], '青岛海尔': [0, 9.184], '云铝股份': [0, 7.19], '山鹰纸业': [0, 2.92], '万通地产': [0, 4.92], '光环新网': [0, 40.87], '西安民生': [0, 10.05], '山西证券': [0, 14.64], '中 关 村': [0, 8.63], '中航资本': [0, 6.94], '日出东方': [0, 10.357000000000001], '国元证券': [1000, 20.2]}\n",
            "20160930 {'中铁二局': [0, 13.75], '东兴证券': [0, 24.12], '远大智能': [0, 8.09], '东吴证券': [0, 12.56], '三一重工': [0, 5.49], '兴业矿业': [0, 8.36], '东方航空': [0, 7.0], '青岛海尔': [0, 9.184], '云铝股份': [0, 7.19], '山鹰纸业': [0, 2.92], '万通地产': [0, 4.92], '光环新网': [0, 40.87], '西安民生': [0, 10.05], '山西证券': [0, 14.64], '中 关 村': [0, 8.63], '中航资本': [0, 6.94], '日出东方': [0, 10.357000000000001], '国元证券': [0, 20.47]}\n",
            "20161014 {'中铁二局': [1800, 11.68], '东兴证券': [0, 24.12], '远大智能': [0, 8.09], '东吴证券': [0, 12.56], '三一重工': [0, 5.49], '兴业矿业': [0, 8.36], '东方航空': [0, 7.0], '青岛海尔': [0, 9.184], '云铝股份': [0, 7.19], '山鹰纸业': [0, 2.92], '万通地产': [0, 4.92], '光环新网': [0, 40.87], '西安民生': [0, 10.05], '山西证券': [0, 14.64], '中 关 村': [0, 8.63], '中航资本': [0, 6.94], '日出东方': [0, 10.357000000000001], '国元证券': [0, 20.47]}\n",
            "20161019 {'中铁二局': [0, 13.12], '东兴证券': [0, 24.12], '远大智能': [0, 8.09], '东吴证券': [0, 12.56], '三一重工': [0, 5.49], '兴业矿业': [0, 8.36], '东方航空': [0, 7.0], '青岛海尔': [0, 9.184], '云铝股份': [0, 7.19], '山鹰纸业': [0, 2.92], '万通地产': [0, 4.92], '光环新网': [0, 40.87], '西安民生': [0, 10.05], '山西证券': [0, 14.64], '中 关 村': [0, 8.63], '中航资本': [0, 6.94], '日出东方': [0, 10.357000000000001], '国元证券': [0, 20.47]}\n",
            "20161024 {'中铁二局': [0, 13.12], '东兴证券': [0, 24.12], '远大智能': [0, 8.09], '东吴证券': [0, 12.56], '三一重工': [0, 5.49], '兴业矿业': [0, 8.36], '东方航空': [0, 7.0], '青岛海尔': [0, 9.184], '云铝股份': [0, 7.19], '山鹰纸业': [0, 2.92], '万通地产': [0, 4.92], '光环新网': [0, 40.87], '西安民生': [0, 10.05], '山西证券': [800, 14.2], '中 关 村': [0, 8.63], '中航资本': [0, 6.94], '日出东方': [0, 10.357000000000001], '国元证券': [0, 20.47]}\n",
            "20161110 {'中铁二局': [0, 13.12], '东兴证券': [0, 24.12], '远大智能': [0, 8.09], '东吴证券': [0, 12.56], '三一重工': [0, 5.49], '兴业矿业': [0, 8.36], '东方航空': [0, 7.0], '青岛海尔': [0, 9.184], '云铝股份': [0, 7.19], '山鹰纸业': [0, 2.92], '万通地产': [0, 4.92], '光环新网': [0, 40.87], '西安民生': [0, 10.05], '山西证券': [0, 14.39], '中 关 村': [0, 8.63], '中航资本': [0, 6.94], '日出东方': [0, 10.357000000000001], '国元证券': [0, 20.47]}\n",
            "20161208 {'中铁二局': [0, 13.12], '东兴证券': [0, 24.12], '远大智能': [0, 8.09], '东吴证券': [0, 12.56], '三一重工': [0, 5.49], '兴业矿业': [0, 8.36], '东方航空': [0, 7.0], '青岛海尔': [0, 9.184], '云铝股份': [0, 7.19], '山鹰纸业': [0, 2.92], '万通地产': [0, 4.92], '光环新网': [0, 40.87], '西安民生': [0, 10.05], '山西证券': [0, 14.39], '中 关 村': [0, 8.63], '中航资本': [0, 6.94], '日出东方': [0, 10.357000000000001], '国元证券': [0, 20.47], '盈峰环境': [1600, 14.72]}\n",
            "20161209 {'中铁二局': [0, 13.12], '东兴证券': [0, 24.12], '远大智能': [0, 8.09], '东吴证券': [0, 12.56], '三一重工': [0, 5.49], '兴业矿业': [0, 8.36], '东方航空': [0, 7.0], '青岛海尔': [0, 9.184], '云铝股份': [0, 7.19], '山鹰纸业': [0, 2.92], '万通地产': [0, 4.92], '光环新网': [0, 40.87], '西安民生': [0, 10.05], '山西证券': [0, 14.39], '中 关 村': [0, 8.63], '中航资本': [0, 6.94], '日出东方': [0, 10.357000000000001], '国元证券': [0, 20.47], '盈峰环境': [0, 14.85]}\n",
            "20161216 {'中铁二局': [0, 13.12], '东兴证券': [0, 24.12], '远大智能': [0, 8.09], '东吴证券': [0, 12.56], '三一重工': [0, 5.49], '兴业矿业': [0, 8.36], '东方航空': [0, 7.0], '青岛海尔': [2400, 9.95], '云铝股份': [0, 7.19], '山鹰纸业': [0, 2.92], '万通地产': [0, 4.92], '光环新网': [0, 40.87], '西安民生': [0, 10.05], '山西证券': [0, 14.39], '中 关 村': [0, 8.63], '中航资本': [0, 6.94], '日出东方': [0, 10.357000000000001], '国元证券': [0, 20.47], '盈峰环境': [0, 14.85]}\n",
            "20161222 {'中铁二局': [0, 13.12], '东兴证券': [0, 24.12], '远大智能': [0, 8.09], '东吴证券': [0, 12.56], '三一重工': [0, 5.49], '兴业矿业': [0, 8.36], '东方航空': [0, 7.0], '青岛海尔': [0, 9.95], '云铝股份': [0, 7.19], '山鹰纸业': [0, 2.92], '万通地产': [0, 4.92], '光环新网': [0, 40.87], '西安民生': [0, 10.05], '山西证券': [0, 14.39], '中 关 村': [0, 8.63], '中航资本': [0, 6.94], '日出东方': [0, 10.357000000000001], '国元证券': [0, 20.47], '盈峰环境': [0, 14.85]}\n",
            "20161229 {'中铁二局': [0, 13.12], '东兴证券': [0, 24.12], '远大智能': [0, 8.09], '东吴证券': [0, 12.56], '三一重工': [0, 5.49], '兴业矿业': [0, 8.36], '东方航空': [0, 7.0], '青岛海尔': [0, 9.95], '云铝股份': [0, 7.19], '山鹰纸业': [0, 2.92], '万通地产': [0, 4.92], '光环新网': [0, 40.87], '西安民生': [0, 10.05], '山西证券': [0, 14.39], '中 关 村': [0, 8.63], '中航资本': [0, 6.94], '日出东方': [0, 10.357000000000001], '国元证券': [0, 20.47], '盈峰环境': [0, 14.85], '双星新材': [1100, 10.94]}\n",
            "20161229 {'中铁二局': [0, 13.12], '东兴证券': [0, 24.12], '远大智能': [0, 8.09], '东吴证券': [0, 12.56], '三一重工': [0, 5.49], '兴业矿业': [0, 8.36], '东方航空': [0, 7.0], '青岛海尔': [0, 9.95], '云铝股份': [0, 7.19], '山鹰纸业': [0, 2.92], '万通地产': [0, 4.92], '光环新网': [0, 40.87], '西安民生': [0, 10.05], '山西证券': [0, 14.39], '中 关 村': [0, 8.63], '中航资本': [0, 6.94], '日出东方': [0, 10.357000000000001], '国元证券': [0, 20.47], '盈峰环境': [0, 14.85], '双星新材': [1100, 10.94], '蓝思科技': [400, 27.55]}\n",
            "20161230 {'中铁二局': [0, 13.12], '东兴证券': [0, 24.12], '远大智能': [0, 8.09], '东吴证券': [0, 12.56], '三一重工': [0, 5.49], '兴业矿业': [0, 8.36], '东方航空': [0, 7.0], '青岛海尔': [0, 9.95], '云铝股份': [0, 7.19], '山鹰纸业': [0, 2.92], '万通地产': [0, 4.92], '光环新网': [0, 40.87], '西安民生': [0, 10.05], '山西证券': [0, 14.39], '中 关 村': [0, 8.63], '中航资本': [0, 6.94], '日出东方': [0, 10.357000000000001], '国元证券': [0, 20.47], '盈峰环境': [0, 14.85], '双星新材': [0, 11.02], '蓝思科技': [400, 27.55]}\n",
            "20161230 {'中铁二局': [0, 13.12], '东兴证券': [0, 24.12], '远大智能': [0, 8.09], '东吴证券': [0, 12.56], '三一重工': [0, 5.49], '兴业矿业': [0, 8.36], '东方航空': [0, 7.0], '青岛海尔': [0, 9.95], '云铝股份': [0, 7.19], '山鹰纸业': [0, 2.92], '万通地产': [0, 4.92], '光环新网': [0, 40.87], '西安民生': [0, 10.05], '山西证券': [0, 14.39], '中 关 村': [0, 8.63], '中航资本': [0, 6.94], '日出东方': [0, 10.357000000000001], '国元证券': [0, 20.47], '盈峰环境': [0, 14.85], '双星新材': [0, 11.02], '蓝思科技': [0, 27.72]}\n",
            "20170105 {'中铁二局': [0, 13.12], '东兴证券': [0, 24.12], '远大智能': [0, 8.09], '东吴证券': [0, 12.56], '三一重工': [0, 5.49], '兴业矿业': [0, 8.36], '东方航空': [0, 7.0], '青岛海尔': [0, 9.95], '云铝股份': [0, 7.19], '山鹰纸业': [0, 2.92], '万通地产': [0, 4.92], '光环新网': [0, 40.87], '西安民生': [0, 10.05], '山西证券': [0, 14.39], '中 关 村': [0, 8.63], '中航资本': [0, 6.94], '日出东方': [0, 10.357000000000001], '国元证券': [0, 20.47], '盈峰环境': [0, 14.85], '双星新材': [0, 11.02], '蓝思科技': [0, 27.72], '珠江啤酒': [1700, 14.04]}\n",
            "20170106 {'中铁二局': [0, 13.12], '东兴证券': [0, 24.12], '远大智能': [0, 8.09], '东吴证券': [0, 12.56], '三一重工': [0, 5.49], '兴业矿业': [0, 8.36], '东方航空': [0, 7.0], '青岛海尔': [0, 9.95], '云铝股份': [0, 7.19], '山鹰纸业': [0, 2.92], '万通地产': [0, 4.92], '光环新网': [0, 40.87], '西安民生': [0, 10.05], '山西证券': [0, 14.39], '中 关 村': [0, 8.63], '中航资本': [0, 6.94], '日出东方': [0, 10.357000000000001], '国元证券': [0, 20.47], '盈峰环境': [0, 14.85], '双星新材': [0, 11.02], '蓝思科技': [0, 27.72], '珠江啤酒': [0, 15.0]}\n",
            "20170112 {'中铁二局': [0, 13.12], '东兴证券': [0, 24.12], '远大智能': [0, 8.09], '东吴证券': [0, 12.56], '三一重工': [0, 5.49], '兴业矿业': [0, 8.36], '东方航空': [0, 7.0], '青岛海尔': [0, 9.95], '云铝股份': [0, 7.19], '山鹰纸业': [0, 2.92], '万通地产': [0, 4.92], '光环新网': [0, 40.87], '西安民生': [0, 10.05], '山西证券': [0, 14.39], '中 关 村': [0, 8.63], '中航资本': [0, 6.94], '日出东方': [0, 10.357000000000001], '国元证券': [0, 20.47], '盈峰环境': [0, 14.85], '双星新材': [0, 11.02], '蓝思科技': [0, 27.72], '珠江啤酒': [1800, 14.06]}\n",
            "20170215 {'中铁二局': [0, 13.12], '东兴证券': [0, 24.12], '远大智能': [0, 8.09], '东吴证券': [0, 12.56], '三一重工': [0, 5.49], '兴业矿业': [0, 8.36], '东方航空': [0, 7.0], '青岛海尔': [0, 9.95], '云铝股份': [0, 7.19], '山鹰纸业': [0, 2.92], '万通地产': [0, 4.92], '光环新网': [0, 40.87], '西安民生': [0, 10.05], '山西证券': [0, 14.39], '中 关 村': [0, 8.63], '中航资本': [0, 6.94], '日出东方': [0, 10.357000000000001], '国元证券': [0, 20.47], '盈峰环境': [0, 14.85], '双星新材': [0, 11.02], '蓝思科技': [0, 27.72], '珠江啤酒': [0, 13.4]}\n",
            "20170222 {'中铁二局': [0, 13.12], '东兴证券': [0, 24.12], '远大智能': [0, 8.09], '东吴证券': [0, 12.56], '三一重工': [0, 5.49], '兴业矿业': [0, 8.36], '东方航空': [0, 7.0], '青岛海尔': [0, 9.95], '云铝股份': [0, 7.19], '山鹰纸业': [0, 2.92], '万通地产': [0, 4.92], '光环新网': [0, 40.87], '西安民生': [0, 10.05], '山西证券': [0, 14.39], '中 关 村': [0, 8.63], '中航资本': [0, 6.94], '日出东方': [0, 10.357000000000001], '国元证券': [0, 20.47], '盈峰环境': [0, 14.85], '双星新材': [0, 11.02], '蓝思科技': [0, 27.72], '珠江啤酒': [0, 13.4], '久其软件': [700, 17.72]}\n",
            "20170224 {'中铁二局': [0, 13.12], '东兴证券': [0, 24.12], '远大智能': [0, 8.09], '东吴证券': [0, 12.56], '三一重工': [0, 5.49], '兴业矿业': [0, 8.36], '东方航空': [0, 7.0], '青岛海尔': [0, 9.95], '云铝股份': [0, 7.19], '山鹰纸业': [0, 2.92], '万通地产': [0, 4.92], '光环新网': [0, 40.87], '西安民生': [0, 10.05], '山西证券': [0, 14.39], '中 关 村': [0, 8.63], '中航资本': [0, 6.94], '日出东方': [0, 10.357000000000001], '国元证券': [0, 20.47], '盈峰环境': [0, 14.85], '双星新材': [0, 11.02], '蓝思科技': [0, 27.72], '珠江啤酒': [0, 13.4], '久其软件': [0, 18.28]}\n",
            "20170317 {'中铁二局': [0, 13.12], '东兴证券': [0, 24.12], '远大智能': [0, 8.09], '东吴证券': [0, 12.56], '三一重工': [0, 5.49], '兴业矿业': [0, 8.36], '东方航空': [0, 7.0], '青岛海尔': [0, 9.95], '云铝股份': [0, 7.19], '山鹰纸业': [0, 2.92], '万通地产': [0, 4.92], '光环新网': [0, 40.87], '西安民生': [0, 10.05], '山西证券': [0, 14.39], '中 关 村': [0, 8.63], '中航资本': [0, 6.94], '日出东方': [0, 10.357000000000001], '国元证券': [0, 20.47], '盈峰环境': [0, 14.85], '双星新材': [0, 11.02], '蓝思科技': [0, 27.72], '珠江啤酒': [0, 13.4], '久其软件': [0, 18.28], '中国银河': [1500, 14.77]}\n",
            "20170327 {'中铁二局': [0, 13.12], '东兴证券': [0, 24.12], '远大智能': [0, 8.09], '东吴证券': [0, 12.56], '三一重工': [0, 5.49], '兴业矿业': [0, 8.36], '东方航空': [0, 7.0], '青岛海尔': [0, 9.95], '云铝股份': [0, 7.19], '山鹰纸业': [0, 2.92], '万通地产': [0, 4.92], '光环新网': [0, 40.87], '西安民生': [0, 10.05], '山西证券': [0, 14.39], '中 关 村': [0, 8.63], '中航资本': [0, 6.94], '日出东方': [0, 10.357000000000001], '国元证券': [0, 20.47], '盈峰环境': [0, 14.85], '双星新材': [0, 11.02], '蓝思科技': [0, 27.72], '珠江啤酒': [0, 13.4], '久其软件': [0, 18.28], '中国银河': [0, 15.08]}\n",
            "20170419 {'中铁二局': [0, 13.12], '东兴证券': [0, 24.12], '远大智能': [0, 8.09], '东吴证券': [0, 12.56], '三一重工': [0, 5.49], '兴业矿业': [0, 8.36], '东方航空': [0, 7.0], '青岛海尔': [0, 9.95], '云铝股份': [0, 7.19], '山鹰纸业': [0, 2.92], '万通地产': [0, 4.92], '光环新网': [0, 40.87], '西安民生': [0, 10.05], '山西证券': [0, 14.39], '中 关 村': [0, 8.63], '中航资本': [0, 6.94], '日出东方': [0, 10.357000000000001], '国元证券': [0, 20.47], '盈峰环境': [0, 14.85], '双星新材': [0, 11.02], '蓝思科技': [0, 27.72], '珠江啤酒': [0, 13.4], '久其软件': [0, 18.28], '中国银河': [2100, 12.21]}\n",
            "20170426 {'中铁二局': [0, 13.12], '东兴证券': [0, 24.12], '远大智能': [0, 8.09], '东吴证券': [0, 12.56], '三一重工': [0, 5.49], '兴业矿业': [0, 8.36], '东方航空': [0, 7.0], '青岛海尔': [0, 9.95], '云铝股份': [0, 7.19], '山鹰纸业': [0, 2.92], '万通地产': [0, 4.92], '光环新网': [0, 40.87], '西安民生': [0, 10.05], '山西证券': [0, 14.39], '中 关 村': [0, 8.63], '中航资本': [0, 6.94], '日出东方': [0, 10.357000000000001], '国元证券': [0, 20.47], '盈峰环境': [0, 14.85], '双星新材': [0, 11.02], '蓝思科技': [0, 27.72], '珠江啤酒': [0, 13.4], '久其软件': [0, 18.28], '中国银河': [0, 12.43]}\n",
            "20170427 {'中铁二局': [0, 13.12], '东兴证券': [0, 24.12], '远大智能': [0, 8.09], '东吴证券': [0, 12.56], '三一重工': [0, 5.49], '兴业矿业': [0, 8.36], '东方航空': [0, 7.0], '青岛海尔': [0, 9.95], '云铝股份': [0, 7.19], '山鹰纸业': [0, 2.92], '万通地产': [0, 4.92], '光环新网': [0, 40.87], '西安民生': [0, 10.05], '山西证券': [0, 14.39], '中 关 村': [0, 8.63], '中航资本': [0, 6.94], '日出东方': [0, 10.357000000000001], '国元证券': [0, 20.47], '盈峰环境': [0, 14.85], '双星新材': [0, 11.02], '蓝思科技': [0, 27.72], '珠江啤酒': [0, 13.4], '久其软件': [0, 18.28], '中国银河': [0, 12.43], '华安证券': [2400, 10.59]}\n",
            "20170516 {'中铁二局': [0, 13.12], '东兴证券': [0, 24.12], '远大智能': [0, 8.09], '东吴证券': [0, 12.56], '三一重工': [0, 5.49], '兴业矿业': [0, 8.36], '东方航空': [0, 7.0], '青岛海尔': [0, 9.95], '云铝股份': [0, 7.19], '山鹰纸业': [0, 2.92], '万通地产': [0, 4.92], '光环新网': [0, 40.87], '西安民生': [0, 10.05], '山西证券': [0, 14.39], '中 关 村': [0, 8.63], '中航资本': [0, 6.94], '日出东方': [0, 10.357000000000001], '国元证券': [0, 20.47], '盈峰环境': [0, 14.85], '双星新材': [0, 11.02], '蓝思科技': [0, 27.72], '珠江啤酒': [0, 13.4], '久其软件': [0, 18.28], '中国银河': [0, 12.43], '华安证券': [0, 10.6]}\n",
            "20170531 {'中铁二局': [0, 13.12], '东兴证券': [0, 24.12], '远大智能': [0, 8.09], '东吴证券': [0, 12.56], '三一重工': [0, 5.49], '兴业矿业': [0, 8.36], '东方航空': [0, 7.0], '青岛海尔': [0, 9.95], '云铝股份': [0, 7.19], '山鹰纸业': [0, 2.92], '万通地产': [0, 4.92], '光环新网': [0, 40.87], '西安民生': [0, 10.05], '山西证券': [0, 14.39], '中 关 村': [0, 8.63], '中航资本': [0, 6.94], '日出东方': [0, 10.357000000000001], '国元证券': [0, 20.47], '盈峰环境': [0, 14.85], '双星新材': [0, 11.02], '蓝思科技': [0, 27.72], '珠江啤酒': [0, 13.4], '久其软件': [0, 18.28], '中国银河': [0, 12.43], '华安证券': [0, 10.6], '恒力股份': [3400, 7.58]}\n",
            "20170601 {'中铁二局': [0, 13.12], '东兴证券': [0, 24.12], '远大智能': [0, 8.09], '东吴证券': [0, 12.56], '三一重工': [0, 5.49], '兴业矿业': [0, 8.36], '东方航空': [0, 7.0], '青岛海尔': [0, 9.95], '云铝股份': [0, 7.19], '山鹰纸业': [0, 2.92], '万通地产': [0, 4.92], '光环新网': [0, 40.87], '西安民生': [0, 10.05], '山西证券': [0, 14.39], '中 关 村': [0, 8.63], '中航资本': [0, 6.94], '日出东方': [0, 10.357000000000001], '国元证券': [0, 20.47], '盈峰环境': [0, 14.85], '双星新材': [0, 11.02], '蓝思科技': [0, 27.72], '珠江啤酒': [0, 13.4], '久其软件': [0, 18.28], '中国银河': [0, 12.43], '华安证券': [0, 10.6], '恒力股份': [0, 7.64]}\n",
            "20170606 {'中铁二局': [0, 13.12], '东兴证券': [0, 24.12], '远大智能': [0, 8.09], '东吴证券': [0, 12.56], '三一重工': [0, 5.49], '兴业矿业': [0, 8.36], '东方航空': [0, 7.0], '青岛海尔': [0, 9.95], '云铝股份': [0, 7.19], '山鹰纸业': [0, 2.92], '万通地产': [0, 4.92], '光环新网': [0, 40.87], '西安民生': [0, 10.05], '山西证券': [0, 14.39], '中 关 村': [0, 8.63], '中航资本': [0, 6.94], '日出东方': [0, 10.357000000000001], '国元证券': [0, 20.47], '盈峰环境': [0, 14.85], '双星新材': [0, 11.02], '蓝思科技': [0, 27.72], '珠江啤酒': [0, 13.4], '久其软件': [0, 18.28], '中国银河': [0, 12.43], '华安证券': [0, 10.6], '恒力股份': [0, 7.64], '网宿科技': [1500, 11.35]}\n",
            "20170606 {'中铁二局': [0, 13.12], '东兴证券': [0, 24.12], '远大智能': [0, 8.09], '东吴证券': [0, 12.56], '三一重工': [0, 5.49], '兴业矿业': [0, 8.36], '东方航空': [0, 7.0], '青岛海尔': [0, 9.95], '云铝股份': [0, 7.19], '山鹰纸业': [0, 2.92], '万通地产': [0, 4.92], '光环新网': [0, 40.87], '西安民生': [0, 10.05], '山西证券': [0, 14.39], '中 关 村': [0, 8.63], '中航资本': [0, 6.94], '日出东方': [0, 10.357000000000001], '国元证券': [0, 20.47], '盈峰环境': [0, 14.85], '双星新材': [0, 11.02], '蓝思科技': [0, 27.72], '珠江啤酒': [0, 13.4], '久其软件': [0, 18.28], '中国银河': [0, 12.43], '华安证券': [0, 10.6], '恒力股份': [0, 7.64], '网宿科技': [2300, 11.32]}\n",
            "20170607 {'中铁二局': [0, 13.12], '东兴证券': [0, 24.12], '远大智能': [0, 8.09], '东吴证券': [0, 12.56], '三一重工': [0, 5.49], '兴业矿业': [0, 8.36], '东方航空': [0, 7.0], '青岛海尔': [0, 9.95], '云铝股份': [0, 7.19], '山鹰纸业': [0, 2.92], '万通地产': [0, 4.92], '光环新网': [0, 40.87], '西安民生': [0, 10.05], '山西证券': [0, 14.39], '中 关 村': [0, 8.63], '中航资本': [0, 6.94], '日出东方': [0, 10.357000000000001], '国元证券': [0, 20.47], '盈峰环境': [0, 14.85], '双星新材': [0, 11.02], '蓝思科技': [0, 27.72], '珠江啤酒': [0, 13.4], '久其软件': [0, 18.28], '中国银河': [0, 12.43], '华安证券': [0, 10.6], '恒力股份': [0, 7.64], '网宿科技': [0, 11.41]}\n",
            "20170621 {'中铁二局': [0, 13.12], '东兴证券': [0, 24.12], '远大智能': [0, 8.09], '东吴证券': [0, 12.56], '三一重工': [0, 5.49], '兴业矿业': [0, 8.36], '东方航空': [0, 7.0], '青岛海尔': [0, 9.95], '云铝股份': [0, 7.19], '山鹰纸业': [0, 2.92], '万通地产': [0, 4.92], '光环新网': [0, 40.87], '西安民生': [0, 10.05], '山西证券': [0, 14.39], '中 关 村': [0, 8.63], '中航资本': [0, 6.94], '日出东方': [0, 10.357000000000001], '国元证券': [0, 20.47], '盈峰环境': [0, 14.85], '双星新材': [0, 11.02], '蓝思科技': [0, 27.72], '珠江啤酒': [0, 13.4], '久其软件': [0, 18.28], '中国银河': [0, 12.43], '华安证券': [0, 10.6], '恒力股份': [0, 7.64], '网宿科技': [0, 11.41], '黑猫股份': [2840, 7.74]}\n",
            "20170622 {'中铁二局': [0, 13.12], '东兴证券': [0, 24.12], '远大智能': [0, 8.09], '东吴证券': [0, 12.56], '三一重工': [0, 5.49], '兴业矿业': [0, 8.36], '东方航空': [0, 7.0], '青岛海尔': [0, 9.95], '云铝股份': [0, 7.19], '山鹰纸业': [0, 2.92], '万通地产': [0, 4.92], '光环新网': [0, 40.87], '西安民生': [0, 10.05], '山西证券': [0, 14.39], '中 关 村': [0, 8.63], '中航资本': [0, 6.94], '日出东方': [0, 10.357000000000001], '国元证券': [0, 20.47], '盈峰环境': [0, 14.85], '双星新材': [0, 11.02], '蓝思科技': [0, 27.72], '珠江啤酒': [0, 13.4], '久其软件': [0, 18.28], '中国银河': [0, 12.43], '华安证券': [0, 10.6], '恒力股份': [0, 7.64], '网宿科技': [0, 11.41], '黑猫股份': [0, 8.0]}\n",
            "20170627 {'中铁二局': [0, 13.12], '东兴证券': [0, 24.12], '远大智能': [0, 8.09], '东吴证券': [0, 12.56], '三一重工': [0, 5.49], '兴业矿业': [0, 8.36], '东方航空': [0, 7.0], '青岛海尔': [0, 9.95], '云铝股份': [0, 7.19], '山鹰纸业': [0, 2.92], '万通地产': [0, 4.92], '光环新网': [0, 40.87], '西安民生': [0, 10.05], '山西证券': [0, 14.39], '中 关 村': [0, 8.63], '中航资本': [0, 6.94], '日出东方': [0, 10.357000000000001], '国元证券': [0, 20.47], '盈峰环境': [0, 14.85], '双星新材': [0, 11.02], '蓝思科技': [0, 27.72], '珠江啤酒': [0, 13.4], '久其软件': [0, 18.28], '中国银河': [0, 12.43], '华安证券': [0, 10.6], '恒力股份': [0, 7.64], '网宿科技': [0, 11.41], '黑猫股份': [0, 8.0], '山西焦化': [4300, 6.31]}\n",
            "20170630 {'中铁二局': [0, 13.12], '东兴证券': [0, 24.12], '远大智能': [0, 8.09], '东吴证券': [0, 12.56], '三一重工': [0, 5.49], '兴业矿业': [0, 8.36], '东方航空': [0, 7.0], '青岛海尔': [0, 9.95], '云铝股份': [0, 7.19], '山鹰纸业': [0, 2.92], '万通地产': [0, 4.92], '光环新网': [0, 40.87], '西安民生': [0, 10.05], '山西证券': [0, 14.39], '中 关 村': [0, 8.63], '中航资本': [0, 6.94], '日出东方': [0, 10.357000000000001], '国元证券': [0, 20.47], '盈峰环境': [0, 14.85], '双星新材': [0, 11.02], '蓝思科技': [0, 27.72], '珠江啤酒': [0, 13.4], '久其软件': [0, 18.28], '中国银河': [0, 12.43], '华安证券': [0, 10.6], '恒力股份': [0, 7.64], '网宿科技': [0, 11.41], '黑猫股份': [0, 8.0], '山西焦化': [2000, 6.95]}\n",
            "20170630 {'中铁二局': [0, 13.12], '东兴证券': [0, 24.12], '远大智能': [0, 8.09], '东吴证券': [0, 12.56], '三一重工': [0, 5.49], '兴业矿业': [0, 8.36], '东方航空': [0, 7.0], '青岛海尔': [0, 9.95], '云铝股份': [0, 7.19], '山鹰纸业': [0, 2.92], '万通地产': [0, 4.92], '光环新网': [0, 40.87], '西安民生': [0, 10.05], '山西证券': [0, 14.39], '中 关 村': [0, 8.63], '中航资本': [0, 6.94], '日出东方': [0, 10.357000000000001], '国元证券': [0, 20.47], '盈峰环境': [0, 14.85], '双星新材': [0, 11.02], '蓝思科技': [0, 27.72], '珠江啤酒': [0, 13.4], '久其软件': [0, 18.28], '中国银河': [0, 12.43], '华安证券': [0, 10.6], '恒力股份': [0, 7.64], '网宿科技': [0, 11.41], '黑猫股份': [0, 8.0], '山西焦化': [0, 7.11]}\n",
            "20170704 {'中铁二局': [0, 13.12], '东兴证券': [0, 24.12], '远大智能': [0, 8.09], '东吴证券': [0, 12.56], '三一重工': [0, 5.49], '兴业矿业': [0, 8.36], '东方航空': [0, 7.0], '青岛海尔': [0, 9.95], '云铝股份': [0, 7.19], '山鹰纸业': [0, 2.92], '万通地产': [0, 4.92], '光环新网': [0, 40.87], '西安民生': [0, 10.05], '山西证券': [0, 14.39], '中 关 村': [0, 8.63], '中航资本': [0, 6.94], '日出东方': [0, 10.357000000000001], '国元证券': [0, 20.47], '盈峰环境': [0, 14.85], '双星新材': [0, 11.02], '蓝思科技': [0, 27.72], '珠江啤酒': [0, 13.4], '久其软件': [0, 18.28], '中国银河': [0, 12.43], '华安证券': [0, 10.6], '恒力股份': [0, 7.64], '网宿科技': [0, 11.41], '黑猫股份': [0, 8.0], '山西焦化': [0, 7.11], '飞乐音响': [1000, 8.87]}\n",
            "20170711 {'中铁二局': [0, 13.12], '东兴证券': [0, 24.12], '远大智能': [0, 8.09], '东吴证券': [0, 12.56], '三一重工': [0, 5.49], '兴业矿业': [0, 8.36], '东方航空': [0, 7.0], '青岛海尔': [0, 9.95], '云铝股份': [0, 7.19], '山鹰纸业': [0, 2.92], '万通地产': [0, 4.92], '光环新网': [0, 40.87], '西安民生': [0, 10.05], '山西证券': [0, 14.39], '中 关 村': [0, 8.63], '中航资本': [0, 6.94], '日出东方': [0, 10.357000000000001], '国元证券': [0, 20.47], '盈峰环境': [0, 14.85], '双星新材': [0, 11.02], '蓝思科技': [0, 27.72], '珠江啤酒': [0, 13.4], '久其软件': [0, 18.28], '中国银河': [0, 12.43], '华安证券': [0, 10.6], '恒力股份': [0, 7.64], '网宿科技': [0, 11.41], '黑猫股份': [0, 8.0], '山西焦化': [0, 7.11], '飞乐音响': [0, 9.02]}\n",
            "20170713 {'中铁二局': [0, 13.12], '东兴证券': [0, 24.12], '远大智能': [0, 8.09], '东吴证券': [0, 12.56], '三一重工': [0, 5.49], '兴业矿业': [0, 8.36], '东方航空': [0, 7.0], '青岛海尔': [0, 9.95], '云铝股份': [0, 7.19], '山鹰纸业': [0, 2.92], '万通地产': [0, 4.92], '光环新网': [0, 40.87], '西安民生': [0, 10.05], '山西证券': [0, 14.39], '中 关 村': [0, 8.63], '中航资本': [0, 6.94], '日出东方': [0, 10.357000000000001], '国元证券': [0, 20.47], '盈峰环境': [0, 14.85], '双星新材': [0, 11.02], '蓝思科技': [0, 27.72], '珠江啤酒': [0, 13.4], '久其软件': [0, 18.28], '中国银河': [0, 12.43], '华安证券': [0, 10.6], '恒力股份': [0, 7.64], '网宿科技': [0, 11.41], '黑猫股份': [0, 8.0], '山西焦化': [0, 7.11], '飞乐音响': [0, 9.02], '金刚玻璃': [1000, 15.32]}\n",
            "20170719 {'中铁二局': [0, 13.12], '东兴证券': [0, 24.12], '远大智能': [0, 8.09], '东吴证券': [0, 12.56], '三一重工': [0, 5.49], '兴业矿业': [0, 8.36], '东方航空': [0, 7.0], '青岛海尔': [0, 9.95], '云铝股份': [0, 7.19], '山鹰纸业': [0, 2.92], '万通地产': [0, 4.92], '光环新网': [0, 40.87], '西安民生': [0, 10.05], '山西证券': [0, 14.39], '中 关 村': [0, 8.63], '中航资本': [0, 6.94], '日出东方': [0, 10.357000000000001], '国元证券': [0, 20.47], '盈峰环境': [0, 14.85], '双星新材': [0, 11.02], '蓝思科技': [0, 27.72], '珠江啤酒': [0, 13.4], '久其软件': [0, 18.28], '中国银河': [0, 12.43], '华安证券': [0, 10.6], '恒力股份': [0, 7.64], '网宿科技': [0, 11.41], '黑猫股份': [0, 8.0], '山西焦化': [0, 7.11], '飞乐音响': [0, 9.02], '金刚玻璃': [0, 16.95]}\n",
            "20180703 {'中铁二局': [0, 13.12], '东兴证券': [0, 24.12], '远大智能': [0, 8.09], '东吴证券': [0, 12.56], '三一重工': [0, 5.49], '兴业矿业': [0, 8.36], '东方航空': [0, 7.0], '青岛海尔': [0, 9.95], '云铝股份': [0, 7.19], '山鹰纸业': [0, 2.92], '万通地产': [0, 4.92], '光环新网': [0, 40.87], '西安民生': [0, 10.05], '山西证券': [0, 14.39], '中 关 村': [0, 8.63], '中航资本': [0, 6.94], '日出东方': [0, 10.357000000000001], '国元证券': [0, 20.47], '盈峰环境': [0, 14.85], '双星新材': [0, 11.02], '蓝思科技': [0, 27.72], '珠江啤酒': [0, 13.4], '久其软件': [0, 18.28], '中国银河': [0, 12.43], '华安证券': [0, 10.6], '恒力股份': [0, 7.64], '网宿科技': [0, 11.41], '黑猫股份': [0, 8.0], '山西焦化': [0, 7.11], '飞乐音响': [0, 9.02], '金刚玻璃': [0, 16.95], '中信证券': [1000, 16.32]}\n",
            "20180712 {'中铁二局': [0, 13.12], '东兴证券': [0, 24.12], '远大智能': [0, 8.09], '东吴证券': [0, 12.56], '三一重工': [0, 5.49], '兴业矿业': [0, 8.36], '东方航空': [0, 7.0], '青岛海尔': [0, 9.95], '云铝股份': [0, 7.19], '山鹰纸业': [0, 2.92], '万通地产': [0, 4.92], '光环新网': [0, 40.87], '西安民生': [0, 10.05], '山西证券': [0, 14.39], '中 关 村': [0, 8.63], '中航资本': [0, 6.94], '日出东方': [0, 10.357000000000001], '国元证券': [0, 20.47], '盈峰环境': [0, 14.85], '双星新材': [0, 11.02], '蓝思科技': [0, 27.72], '珠江啤酒': [0, 13.4], '久其软件': [0, 18.28], '中国银河': [0, 12.43], '华安证券': [0, 10.6], '恒力股份': [0, 7.64], '网宿科技': [0, 11.41], '黑猫股份': [0, 8.0], '山西焦化': [0, 7.11], '飞乐音响': [0, 9.02], '金刚玻璃': [0, 16.95], '中信证券': [0, 16.73]}\n",
            "20180801 {'中铁二局': [0, 13.12], '东兴证券': [0, 24.12], '远大智能': [0, 8.09], '东吴证券': [0, 12.56], '三一重工': [0, 5.49], '兴业矿业': [0, 8.36], '东方航空': [0, 7.0], '青岛海尔': [0, 9.95], '云铝股份': [0, 7.19], '山鹰纸业': [0, 2.92], '万通地产': [0, 4.92], '光环新网': [0, 40.87], '西安民生': [0, 10.05], '山西证券': [0, 14.39], '中 关 村': [0, 8.63], '中航资本': [0, 6.94], '日出东方': [0, 10.357000000000001], '国元证券': [0, 20.47], '盈峰环境': [0, 14.85], '双星新材': [0, 11.02], '蓝思科技': [0, 27.72], '珠江啤酒': [0, 13.4], '久其软件': [0, 18.28], '中国银河': [0, 12.43], '华安证券': [0, 10.6], '恒力股份': [0, 7.64], '网宿科技': [0, 11.41], '黑猫股份': [0, 8.0], '山西焦化': [0, 7.11], '飞乐音响': [0, 9.02], '金刚玻璃': [0, 16.95], '中信证券': [0, 16.73], '爱施德': [1800, 5.77]}\n",
            "20180807 {'中铁二局': [0, 13.12], '东兴证券': [0, 24.12], '远大智能': [0, 8.09], '东吴证券': [0, 12.56], '三一重工': [0, 5.49], '兴业矿业': [0, 8.36], '东方航空': [0, 7.0], '青岛海尔': [0, 9.95], '云铝股份': [0, 7.19], '山鹰纸业': [0, 2.92], '万通地产': [0, 4.92], '光环新网': [0, 40.87], '西安民生': [0, 10.05], '山西证券': [0, 14.39], '中 关 村': [0, 8.63], '中航资本': [0, 6.94], '日出东方': [0, 10.357000000000001], '国元证券': [0, 20.47], '盈峰环境': [0, 14.85], '双星新材': [0, 11.02], '蓝思科技': [0, 27.72], '珠江啤酒': [0, 13.4], '久其软件': [0, 18.28], '中国银河': [0, 12.43], '华安证券': [0, 10.6], '恒力股份': [0, 7.64], '网宿科技': [0, 11.41], '黑猫股份': [0, 8.0], '山西焦化': [0, 7.11], '飞乐音响': [0, 9.02], '金刚玻璃': [0, 16.95], '中信证券': [0, 16.73], '爱施德': [1800, 5.77], '华泰证券': [1400, 15.04]}\n",
            "20180807 {'中铁二局': [0, 13.12], '东兴证券': [0, 24.12], '远大智能': [0, 8.09], '东吴证券': [0, 12.56], '三一重工': [0, 5.49], '兴业矿业': [0, 8.36], '东方航空': [0, 7.0], '青岛海尔': [0, 9.95], '云铝股份': [0, 7.19], '山鹰纸业': [0, 2.92], '万通地产': [0, 4.92], '光环新网': [0, 40.87], '西安民生': [0, 10.05], '山西证券': [0, 14.39], '中 关 村': [0, 8.63], '中航资本': [0, 6.94], '日出东方': [0, 10.357000000000001], '国元证券': [0, 20.47], '盈峰环境': [0, 14.85], '双星新材': [0, 11.02], '蓝思科技': [0, 27.72], '珠江啤酒': [0, 13.4], '久其软件': [0, 18.28], '中国银河': [0, 12.43], '华安证券': [0, 10.6], '恒力股份': [0, 7.64], '网宿科技': [0, 11.41], '黑猫股份': [0, 8.0], '山西焦化': [0, 7.11], '飞乐音响': [0, 9.02], '金刚玻璃': [0, 16.95], '中信证券': [0, 16.73], '爱施德': [2000, 5.41], '华泰证券': [1400, 15.04]}\n",
            "20180809 {'中铁二局': [0, 13.12], '东兴证券': [0, 24.12], '远大智能': [0, 8.09], '东吴证券': [0, 12.56], '三一重工': [0, 5.49], '兴业矿业': [0, 8.36], '东方航空': [0, 7.0], '青岛海尔': [0, 9.95], '云铝股份': [0, 7.19], '山鹰纸业': [0, 2.92], '万通地产': [0, 4.92], '光环新网': [0, 40.87], '西安民生': [0, 10.05], '山西证券': [0, 14.39], '中 关 村': [0, 8.63], '中航资本': [0, 6.94], '日出东方': [0, 10.357000000000001], '国元证券': [0, 20.47], '盈峰环境': [0, 14.85], '双星新材': [0, 11.02], '蓝思科技': [0, 27.72], '珠江啤酒': [0, 13.4], '久其软件': [0, 18.28], '中国银河': [0, 12.43], '华安证券': [0, 10.6], '恒力股份': [0, 7.64], '网宿科技': [0, 11.41], '黑猫股份': [0, 8.0], '山西焦化': [0, 7.11], '飞乐音响': [0, 9.02], '金刚玻璃': [0, 16.95], '中信证券': [0, 16.73], '爱施德': [2000, 5.41], '华泰证券': [0, 15.65]}\n",
            "20180809 {'中铁二局': [0, 13.12], '东兴证券': [0, 24.12], '远大智能': [0, 8.09], '东吴证券': [0, 12.56], '三一重工': [0, 5.49], '兴业矿业': [0, 8.36], '东方航空': [0, 7.0], '青岛海尔': [0, 9.95], '云铝股份': [0, 7.19], '山鹰纸业': [0, 2.92], '万通地产': [0, 4.92], '光环新网': [0, 40.87], '西安民生': [0, 10.05], '山西证券': [0, 14.39], '中 关 村': [0, 8.63], '中航资本': [0, 6.94], '日出东方': [0, 10.357000000000001], '国元证券': [0, 20.47], '盈峰环境': [0, 14.85], '双星新材': [0, 11.02], '蓝思科技': [0, 27.72], '珠江啤酒': [0, 13.4], '久其软件': [0, 18.28], '中国银河': [0, 12.43], '华安证券': [0, 10.6], '恒力股份': [0, 7.64], '网宿科技': [0, 11.41], '黑猫股份': [0, 8.0], '山西焦化': [0, 7.11], '飞乐音响': [0, 9.02], '金刚玻璃': [0, 16.95], '中信证券': [0, 16.73], '爱施德': [1800, 5.5], '华泰证券': [0, 15.65]}\n",
            "20180810 {'中铁二局': [0, 13.12], '东兴证券': [0, 24.12], '远大智能': [0, 8.09], '东吴证券': [0, 12.56], '三一重工': [0, 5.49], '兴业矿业': [0, 8.36], '东方航空': [0, 7.0], '青岛海尔': [0, 9.95], '云铝股份': [0, 7.19], '山鹰纸业': [0, 2.92], '万通地产': [0, 4.92], '光环新网': [0, 40.87], '西安民生': [0, 10.05], '山西证券': [0, 14.39], '中 关 村': [0, 8.63], '中航资本': [0, 6.94], '日出东方': [0, 10.357000000000001], '国元证券': [0, 20.47], '盈峰环境': [0, 14.85], '双星新材': [0, 11.02], '蓝思科技': [0, 27.72], '珠江啤酒': [0, 13.4], '久其软件': [0, 18.28], '中国银河': [0, 12.43], '华安证券': [0, 10.6], '恒力股份': [0, 7.64], '网宿科技': [0, 11.41], '黑猫股份': [0, 8.0], '山西焦化': [0, 7.11], '飞乐音响': [0, 9.02], '金刚玻璃': [0, 16.95], '中信证券': [0, 16.73], '爱施德': [1800, 5.5], '华泰证券': [0, 15.65], '常铝股份': [1500, 5.05]}\n",
            "20180814 {'中铁二局': [0, 13.12], '东兴证券': [0, 24.12], '远大智能': [0, 8.09], '东吴证券': [0, 12.56], '三一重工': [0, 5.49], '兴业矿业': [0, 8.36], '东方航空': [0, 7.0], '青岛海尔': [0, 9.95], '云铝股份': [0, 7.19], '山鹰纸业': [0, 2.92], '万通地产': [0, 4.92], '光环新网': [0, 40.87], '西安民生': [0, 10.05], '山西证券': [0, 14.39], '中 关 村': [0, 8.63], '中航资本': [0, 6.94], '日出东方': [0, 10.357000000000001], '国元证券': [0, 20.47], '盈峰环境': [0, 14.85], '双星新材': [0, 11.02], '蓝思科技': [0, 27.72], '珠江啤酒': [0, 13.4], '久其软件': [0, 18.28], '中国银河': [0, 12.43], '华安证券': [0, 10.6], '恒力股份': [0, 7.64], '网宿科技': [0, 11.41], '黑猫股份': [0, 8.0], '山西焦化': [0, 7.11], '飞乐音响': [0, 9.02], '金刚玻璃': [0, 16.95], '中信证券': [0, 16.73], '爱施德': [1800, 5.5], '华泰证券': [0, 15.65], '常铝股份': [1500, 5.05], '中国中期': [100, 10.84]}\n",
            "20180820 {'中铁二局': [0, 13.12], '东兴证券': [0, 24.12], '远大智能': [0, 8.09], '东吴证券': [0, 12.56], '三一重工': [0, 5.49], '兴业矿业': [0, 8.36], '东方航空': [0, 7.0], '青岛海尔': [0, 9.95], '云铝股份': [0, 7.19], '山鹰纸业': [0, 2.92], '万通地产': [0, 4.92], '光环新网': [0, 40.87], '西安民生': [0, 10.05], '山西证券': [0, 14.39], '中 关 村': [0, 8.63], '中航资本': [0, 6.94], '日出东方': [0, 10.357000000000001], '国元证券': [0, 20.47], '盈峰环境': [0, 14.85], '双星新材': [0, 11.02], '蓝思科技': [0, 27.72], '珠江啤酒': [0, 13.4], '久其软件': [0, 18.28], '中国银河': [0, 12.43], '华安证券': [0, 10.6], '恒力股份': [0, 7.64], '网宿科技': [0, 11.41], '黑猫股份': [0, 8.0], '山西焦化': [0, 7.11], '飞乐音响': [0, 9.02], '金刚玻璃': [0, 16.95], '中信证券': [0, 16.73], '爱施德': [1800, 5.5], '华泰证券': [0, 15.65], '常铝股份': [1500, 5.05], '中国中期': [0, 9.63]}\n",
            "20180823 {'中铁二局': [0, 13.12], '东兴证券': [0, 24.12], '远大智能': [0, 8.09], '东吴证券': [0, 12.56], '三一重工': [0, 5.49], '兴业矿业': [0, 8.36], '东方航空': [0, 7.0], '青岛海尔': [0, 9.95], '云铝股份': [0, 7.19], '山鹰纸业': [0, 2.92], '万通地产': [0, 4.92], '光环新网': [0, 40.87], '西安民生': [0, 10.05], '山西证券': [0, 14.39], '中 关 村': [0, 8.63], '中航资本': [0, 6.94], '日出东方': [0, 10.357000000000001], '国元证券': [0, 20.47], '盈峰环境': [0, 14.85], '双星新材': [0, 11.02], '蓝思科技': [0, 27.72], '珠江啤酒': [0, 13.4], '久其软件': [0, 18.28], '中国银河': [0, 12.43], '华安证券': [0, 10.6], '恒力股份': [0, 7.64], '网宿科技': [0, 11.41], '黑猫股份': [0, 8.0], '山西焦化': [0, 7.11], '飞乐音响': [0, 9.02], '金刚玻璃': [0, 16.95], '中信证券': [0, 16.73], '爱施德': [1800, 5.5], '华泰证券': [0, 15.65], '常铝股份': [1500, 5.05], '中国中期': [0, 9.63], '广发证券': [500, 13.45]}\n",
            "20180824 {'中铁二局': [0, 13.12], '东兴证券': [0, 24.12], '远大智能': [0, 8.09], '东吴证券': [0, 12.56], '三一重工': [0, 5.49], '兴业矿业': [0, 8.36], '东方航空': [0, 7.0], '青岛海尔': [0, 9.95], '云铝股份': [0, 7.19], '山鹰纸业': [0, 2.92], '万通地产': [0, 4.92], '光环新网': [0, 40.87], '西安民生': [0, 10.05], '山西证券': [0, 14.39], '中 关 村': [0, 8.63], '中航资本': [0, 6.94], '日出东方': [0, 10.357000000000001], '国元证券': [0, 20.47], '盈峰环境': [0, 14.85], '双星新材': [0, 11.02], '蓝思科技': [0, 27.72], '珠江啤酒': [0, 13.4], '久其软件': [0, 18.28], '中国银河': [0, 12.43], '华安证券': [0, 10.6], '恒力股份': [0, 7.64], '网宿科技': [0, 11.41], '黑猫股份': [0, 8.0], '山西焦化': [0, 7.11], '飞乐音响': [0, 9.02], '金刚玻璃': [0, 16.95], '中信证券': [0, 16.73], '爱施德': [1800, 5.5], '华泰证券': [0, 15.65], '常铝股份': [1500, 5.05], '中国中期': [0, 9.63], '广发证券': [0, 13.35]}\n",
            "20180830 {'中铁二局': [0, 13.12], '东兴证券': [0, 24.12], '远大智能': [0, 8.09], '东吴证券': [0, 12.56], '三一重工': [0, 5.49], '兴业矿业': [0, 8.36], '东方航空': [0, 7.0], '青岛海尔': [0, 9.95], '云铝股份': [0, 7.19], '山鹰纸业': [0, 2.92], '万通地产': [0, 4.92], '光环新网': [0, 40.87], '西安民生': [0, 10.05], '山西证券': [0, 14.39], '中 关 村': [0, 8.63], '中航资本': [0, 6.94], '日出东方': [0, 10.357000000000001], '国元证券': [0, 20.47], '盈峰环境': [0, 14.85], '双星新材': [0, 11.02], '蓝思科技': [0, 27.72], '珠江啤酒': [0, 13.4], '久其软件': [0, 18.28], '中国银河': [0, 12.43], '华安证券': [0, 10.6], '恒力股份': [0, 7.64], '网宿科技': [0, 11.41], '黑猫股份': [0, 8.0], '山西焦化': [0, 7.11], '飞乐音响': [0, 9.02], '金刚玻璃': [0, 16.95], '中信证券': [0, 16.73], '爱施德': [1800, 5.5], '华泰证券': [0, 15.65], '常铝股份': [1500, 5.05], '中国中期': [0, 9.63], '广发证券': [0, 13.35], '汉钟精机': [800, 9.38]}\n",
            "20181112 {'中铁二局': [0, 13.12], '东兴证券': [0, 24.12], '远大智能': [0, 8.09], '东吴证券': [0, 12.56], '三一重工': [0, 5.49], '兴业矿业': [0, 8.36], '东方航空': [0, 7.0], '青岛海尔': [0, 9.95], '云铝股份': [0, 7.19], '山鹰纸业': [0, 2.92], '万通地产': [0, 4.92], '光环新网': [0, 40.87], '西安民生': [0, 10.05], '山西证券': [0, 14.39], '中 关 村': [0, 8.63], '中航资本': [0, 6.94], '日出东方': [0, 10.357000000000001], '国元证券': [0, 20.47], '盈峰环境': [0, 14.85], '双星新材': [0, 11.02], '蓝思科技': [0, 27.72], '珠江啤酒': [0, 13.4], '久其软件': [0, 18.28], '中国银河': [0, 12.43], '华安证券': [0, 10.6], '恒力股份': [0, 7.64], '网宿科技': [0, 11.41], '黑猫股份': [0, 8.0], '山西焦化': [0, 7.11], '飞乐音响': [0, 9.02], '金刚玻璃': [0, 16.95], '中信证券': [0, 16.73], '爱施德': [0, 6.0], '华泰证券': [0, 15.65], '常铝股份': [1500, 5.05], '中国中期': [0, 9.63], '广发证券': [0, 13.35], '汉钟精机': [800, 9.38]}\n",
            "20190225 {'中铁二局': [0, 13.12], '东兴证券': [0, 24.12], '远大智能': [0, 8.09], '东吴证券': [0, 12.56], '三一重工': [0, 5.49], '兴业矿业': [0, 8.36], '东方航空': [0, 7.0], '青岛海尔': [0, 9.95], '云铝股份': [0, 7.19], '山鹰纸业': [0, 2.92], '万通地产': [0, 4.92], '光环新网': [0, 40.87], '西安民生': [0, 10.05], '山西证券': [0, 14.39], '中 关 村': [0, 8.63], '中航资本': [0, 6.94], '日出东方': [0, 10.357000000000001], '国元证券': [0, 20.47], '盈峰环境': [0, 14.85], '双星新材': [0, 11.02], '蓝思科技': [0, 27.72], '珠江啤酒': [0, 13.4], '久其软件': [0, 18.28], '中国银河': [0, 12.43], '华安证券': [0, 10.6], '恒力股份': [0, 7.64], '网宿科技': [0, 11.41], '黑猫股份': [0, 8.0], '山西焦化': [0, 7.11], '飞乐音响': [0, 9.02], '金刚玻璃': [0, 16.95], '中信证券': [0, 16.73], '爱施德': [0, 6.0], '华泰证券': [0, 15.65], '常铝股份': [1500, 5.05], '中国中期': [0, 9.63], '广发证券': [0, 13.35], '汉钟精机': [0, 9.89]}\n",
            "20190304 {'中铁二局': [0, 13.12], '东兴证券': [0, 24.12], '远大智能': [0, 8.09], '东吴证券': [0, 12.56], '三一重工': [0, 5.49], '兴业矿业': [0, 8.36], '东方航空': [0, 7.0], '青岛海尔': [0, 9.95], '云铝股份': [0, 7.19], '山鹰纸业': [0, 2.92], '万通地产': [0, 4.92], '光环新网': [0, 40.87], '西安民生': [0, 10.05], '山西证券': [0, 14.39], '中 关 村': [0, 8.63], '中航资本': [0, 6.94], '日出东方': [0, 10.357000000000001], '国元证券': [0, 20.47], '盈峰环境': [0, 14.85], '双星新材': [0, 11.02], '蓝思科技': [0, 27.72], '珠江啤酒': [0, 13.4], '久其软件': [0, 18.28], '中国银河': [0, 12.43], '华安证券': [0, 10.6], '恒力股份': [0, 7.64], '网宿科技': [0, 11.41], '黑猫股份': [0, 8.0], '山西焦化': [0, 7.11], '飞乐音响': [0, 9.02], '金刚玻璃': [0, 16.95], '中信证券': [0, 16.73], '爱施德': [0, 6.0], '华泰证券': [0, 15.65], '常铝股份': [0, 4.16], '中国中期': [0, 9.63], '广发证券': [0, 13.35], '汉钟精机': [0, 9.89]}\n",
            "20200122 {'中铁二局': [0, 13.12], '东兴证券': [0, 24.12], '远大智能': [0, 8.09], '东吴证券': [0, 12.56], '三一重工': [0, 5.49], '兴业矿业': [0, 8.36], '东方航空': [0, 7.0], '青岛海尔': [0, 9.95], '云铝股份': [0, 7.19], '山鹰纸业': [0, 2.92], '万通地产': [0, 4.92], '光环新网': [0, 40.87], '西安民生': [0, 10.05], '山西证券': [0, 14.39], '中 关 村': [0, 8.63], '中航资本': [0, 6.94], '日出东方': [0, 10.357000000000001], '国元证券': [0, 20.47], '盈峰环境': [0, 14.85], '双星新材': [0, 11.02], '蓝思科技': [0, 27.72], '珠江啤酒': [0, 13.4], '久其软件': [0, 18.28], '中国银河': [0, 12.43], '华安证券': [0, 10.6], '恒力股份': [0, 7.64], '网宿科技': [0, 11.41], '黑猫股份': [0, 8.0], '山西焦化': [0, 7.11], '飞乐音响': [0, 9.02], '金刚玻璃': [0, 16.95], '中信证券': [0, 16.73], '爱施德': [0, 6.0], '华泰证券': [0, 15.65], '常铝股份': [0, 4.16], '中国中期': [0, 9.63], '广发证券': [0, 13.35], '汉钟精机': [0, 9.89], '鲁北化工': [3000, 7.29]}\n",
            "20200217 {'中铁二局': [0, 13.12], '东兴证券': [0, 24.12], '远大智能': [0, 8.09], '东吴证券': [0, 12.56], '三一重工': [0, 5.49], '兴业矿业': [0, 8.36], '东方航空': [0, 7.0], '青岛海尔': [0, 9.95], '云铝股份': [0, 7.19], '山鹰纸业': [0, 2.92], '万通地产': [0, 4.92], '光环新网': [0, 40.87], '西安民生': [0, 10.05], '山西证券': [0, 14.39], '中 关 村': [0, 8.63], '中航资本': [0, 6.94], '日出东方': [0, 10.357000000000001], '国元证券': [0, 20.47], '盈峰环境': [0, 14.85], '双星新材': [0, 11.02], '蓝思科技': [0, 27.72], '珠江啤酒': [0, 13.4], '久其软件': [0, 18.28], '中国银河': [0, 12.43], '华安证券': [0, 10.6], '恒力股份': [0, 7.64], '网宿科技': [0, 11.41], '黑猫股份': [0, 8.0], '山西焦化': [0, 7.11], '飞乐音响': [0, 9.02], '金刚玻璃': [0, 16.95], '中信证券': [0, 16.73], '爱施德': [0, 6.0], '华泰证券': [0, 15.65], '常铝股份': [0, 4.16], '中国中期': [0, 9.63], '广发证券': [0, 13.35], '汉钟精机': [0, 9.89], '鲁北化工': [0, 8.1]}\n",
            "20200310 {'中铁二局': [0, 13.12], '东兴证券': [0, 24.12], '远大智能': [0, 8.09], '东吴证券': [0, 12.56], '三一重工': [0, 5.49], '兴业矿业': [0, 8.36], '东方航空': [0, 7.0], '青岛海尔': [0, 9.95], '云铝股份': [0, 7.19], '山鹰纸业': [0, 2.92], '万通地产': [0, 4.92], '光环新网': [0, 40.87], '西安民生': [0, 10.05], '山西证券': [0, 14.39], '中 关 村': [0, 8.63], '中航资本': [0, 6.94], '日出东方': [0, 10.357000000000001], '国元证券': [0, 20.47], '盈峰环境': [0, 14.85], '双星新材': [0, 11.02], '蓝思科技': [0, 27.72], '珠江啤酒': [0, 13.4], '久其软件': [0, 18.28], '中国银河': [0, 12.43], '华安证券': [0, 10.6], '恒力股份': [0, 7.64], '网宿科技': [0, 11.41], '黑猫股份': [0, 8.0], '山西焦化': [0, 7.11], '飞乐音响': [0, 9.02], '金刚玻璃': [0, 16.95], '中信证券': [0, 16.73], '爱施德': [0, 6.0], '华泰证券': [0, 15.65], '常铝股份': [0, 4.16], '中国中期': [0, 9.63], '广发证券': [0, 13.35], '汉钟精机': [0, 9.89], '鲁北化工': [3000, 7.41]}\n",
            "20200311 {'中铁二局': [0, 13.12], '东兴证券': [0, 24.12], '远大智能': [0, 8.09], '东吴证券': [0, 12.56], '三一重工': [0, 5.49], '兴业矿业': [0, 8.36], '东方航空': [0, 7.0], '青岛海尔': [0, 9.95], '云铝股份': [0, 7.19], '山鹰纸业': [0, 2.92], '万通地产': [0, 4.92], '光环新网': [0, 40.87], '西安民生': [0, 10.05], '山西证券': [0, 14.39], '中 关 村': [0, 8.63], '中航资本': [0, 6.94], '日出东方': [0, 10.357000000000001], '国元证券': [0, 20.47], '盈峰环境': [0, 14.85], '双星新材': [0, 11.02], '蓝思科技': [0, 27.72], '珠江啤酒': [0, 13.4], '久其软件': [0, 18.28], '中国银河': [0, 12.43], '华安证券': [0, 10.6], '恒力股份': [0, 7.64], '网宿科技': [0, 11.41], '黑猫股份': [0, 8.0], '山西焦化': [0, 7.11], '飞乐音响': [0, 9.02], '金刚玻璃': [0, 16.95], '中信证券': [0, 16.73], '爱施德': [0, 6.0], '华泰证券': [0, 15.65], '常铝股份': [0, 4.16], '中国中期': [0, 9.63], '广发证券': [0, 13.35], '汉钟精机': [0, 9.89], '鲁北化工': [100, 7.87]}\n",
            "20200313 {'中铁二局': [0, 13.12], '东兴证券': [0, 24.12], '远大智能': [0, 8.09], '东吴证券': [0, 12.56], '三一重工': [0, 5.49], '兴业矿业': [0, 8.36], '东方航空': [0, 7.0], '青岛海尔': [0, 9.95], '云铝股份': [0, 7.19], '山鹰纸业': [0, 2.92], '万通地产': [0, 4.92], '光环新网': [0, 40.87], '西安民生': [0, 10.05], '山西证券': [0, 14.39], '中 关 村': [0, 8.63], '中航资本': [0, 6.94], '日出东方': [0, 10.357000000000001], '国元证券': [0, 20.47], '盈峰环境': [0, 14.85], '双星新材': [0, 11.02], '蓝思科技': [0, 27.72], '珠江啤酒': [0, 13.4], '久其软件': [0, 18.28], '中国银河': [0, 12.43], '华安证券': [0, 10.6], '恒力股份': [0, 7.64], '网宿科技': [0, 11.41], '黑猫股份': [0, 8.0], '山西焦化': [0, 7.11], '飞乐音响': [0, 9.02], '金刚玻璃': [0, 16.95], '中信证券': [0, 16.73], '爱施德': [0, 6.0], '华泰证券': [0, 15.65], '常铝股份': [0, 4.16], '中国中期': [0, 9.63], '广发证券': [0, 13.35], '汉钟精机': [0, 9.89], '鲁北化工': [2100, 7.15]}\n",
            "20200313 {'中铁二局': [0, 13.12], '东兴证券': [0, 24.12], '远大智能': [0, 8.09], '东吴证券': [0, 12.56], '三一重工': [0, 5.49], '兴业矿业': [0, 8.36], '东方航空': [0, 7.0], '青岛海尔': [0, 9.95], '云铝股份': [0, 7.19], '山鹰纸业': [0, 2.92], '万通地产': [0, 4.92], '光环新网': [0, 40.87], '西安民生': [0, 10.05], '山西证券': [0, 14.39], '中 关 村': [0, 8.63], '中航资本': [0, 6.94], '日出东方': [0, 10.357000000000001], '国元证券': [0, 20.47], '盈峰环境': [0, 14.85], '双星新材': [0, 11.02], '蓝思科技': [0, 27.72], '珠江啤酒': [0, 13.4], '久其软件': [0, 18.28], '中国银河': [0, 12.43], '华安证券': [0, 10.6], '恒力股份': [0, 7.64], '网宿科技': [0, 11.41], '黑猫股份': [0, 8.0], '山西焦化': [0, 7.11], '飞乐音响': [0, 9.02], '金刚玻璃': [0, 16.95], '中信证券': [0, 16.73], '爱施德': [0, 6.0], '华泰证券': [0, 15.65], '常铝股份': [0, 4.16], '中国中期': [0, 9.63], '广发证券': [0, 13.35], '汉钟精机': [0, 9.89], '鲁北化工': [2100, 7.15], '亚厦股份': [1000, 6.15]}\n",
            "20200316 {'中铁二局': [0, 13.12], '东兴证券': [0, 24.12], '远大智能': [0, 8.09], '东吴证券': [0, 12.56], '三一重工': [0, 5.49], '兴业矿业': [0, 8.36], '东方航空': [0, 7.0], '青岛海尔': [0, 9.95], '云铝股份': [0, 7.19], '山鹰纸业': [0, 2.92], '万通地产': [0, 4.92], '光环新网': [0, 40.87], '西安民生': [0, 10.05], '山西证券': [0, 14.39], '中 关 村': [0, 8.63], '中航资本': [0, 6.94], '日出东方': [0, 10.357000000000001], '国元证券': [0, 20.47], '盈峰环境': [0, 14.85], '双星新材': [0, 11.02], '蓝思科技': [0, 27.72], '珠江啤酒': [0, 13.4], '久其软件': [0, 18.28], '中国银河': [0, 12.43], '华安证券': [0, 10.6], '恒力股份': [0, 7.64], '网宿科技': [0, 11.41], '黑猫股份': [0, 8.0], '山西焦化': [0, 7.11], '飞乐音响': [0, 9.02], '金刚玻璃': [0, 16.95], '中信证券': [0, 16.73], '爱施德': [0, 6.0], '华泰证券': [0, 15.65], '常铝股份': [0, 4.16], '中国中期': [0, 9.63], '广发证券': [0, 13.35], '汉钟精机': [0, 9.89], '鲁北化工': [0, 7.39], '亚厦股份': [1000, 6.15]}\n",
            "20200316 {'中铁二局': [0, 13.12], '东兴证券': [0, 24.12], '远大智能': [0, 8.09], '东吴证券': [0, 12.56], '三一重工': [0, 5.49], '兴业矿业': [0, 8.36], '东方航空': [0, 7.0], '青岛海尔': [0, 9.95], '云铝股份': [0, 7.19], '山鹰纸业': [0, 2.92], '万通地产': [0, 4.92], '光环新网': [0, 40.87], '西安民生': [0, 10.05], '山西证券': [0, 14.39], '中 关 村': [0, 8.63], '中航资本': [0, 6.94], '日出东方': [0, 10.357000000000001], '国元证券': [0, 20.47], '盈峰环境': [0, 14.85], '双星新材': [0, 11.02], '蓝思科技': [0, 27.72], '珠江啤酒': [0, 13.4], '久其软件': [0, 18.28], '中国银河': [0, 12.43], '华安证券': [0, 10.6], '恒力股份': [0, 7.64], '网宿科技': [0, 11.41], '黑猫股份': [0, 8.0], '山西焦化': [0, 7.11], '飞乐音响': [0, 9.02], '金刚玻璃': [0, 16.95], '中信证券': [0, 16.73], '爱施德': [0, 6.0], '华泰证券': [0, 15.65], '常铝股份': [0, 4.16], '中国中期': [0, 9.63], '广发证券': [0, 13.35], '汉钟精机': [0, 9.89], '鲁北化工': [0, 7.39], '亚厦股份': [0, 6.43]}\n",
            "20200317 {'中铁二局': [0, 13.12], '东兴证券': [0, 24.12], '远大智能': [0, 8.09], '东吴证券': [0, 12.56], '三一重工': [0, 5.49], '兴业矿业': [0, 8.36], '东方航空': [0, 7.0], '青岛海尔': [0, 9.95], '云铝股份': [0, 7.19], '山鹰纸业': [0, 2.92], '万通地产': [0, 4.92], '光环新网': [0, 40.87], '西安民生': [0, 10.05], '山西证券': [0, 14.39], '中 关 村': [0, 8.63], '中航资本': [0, 6.94], '日出东方': [0, 10.357000000000001], '国元证券': [0, 20.47], '盈峰环境': [0, 14.85], '双星新材': [0, 11.02], '蓝思科技': [0, 27.72], '珠江啤酒': [0, 13.4], '久其软件': [0, 18.28], '中国银河': [0, 12.43], '华安证券': [0, 10.6], '恒力股份': [0, 7.64], '网宿科技': [0, 11.41], '黑猫股份': [0, 8.0], '山西焦化': [0, 7.11], '飞乐音响': [0, 9.02], '金刚玻璃': [0, 16.95], '中信证券': [0, 16.73], '爱施德': [0, 6.0], '华泰证券': [0, 15.65], '常铝股份': [0, 4.16], '中国中期': [0, 9.63], '广发证券': [0, 13.35], '汉钟精机': [0, 9.89], '鲁北化工': [2000, 7.15], '亚厦股份': [0, 6.43]}\n",
            "20200317 {'中铁二局': [0, 13.12], '东兴证券': [0, 24.12], '远大智能': [0, 8.09], '东吴证券': [0, 12.56], '三一重工': [0, 5.49], '兴业矿业': [0, 8.36], '东方航空': [0, 7.0], '青岛海尔': [0, 9.95], '云铝股份': [0, 7.19], '山鹰纸业': [0, 2.92], '万通地产': [0, 4.92], '光环新网': [0, 40.87], '西安民生': [0, 10.05], '山西证券': [0, 14.39], '中 关 村': [0, 8.63], '中航资本': [0, 6.94], '日出东方': [0, 10.357000000000001], '国元证券': [0, 20.47], '盈峰环境': [0, 14.85], '双星新材': [0, 11.02], '蓝思科技': [0, 27.72], '珠江啤酒': [0, 13.4], '久其软件': [0, 18.28], '中国银河': [0, 12.43], '华安证券': [0, 10.6], '恒力股份': [0, 7.64], '网宿科技': [0, 11.41], '黑猫股份': [0, 8.0], '山西焦化': [0, 7.11], '飞乐音响': [0, 9.02], '金刚玻璃': [0, 16.95], '中信证券': [0, 16.73], '爱施德': [0, 6.0], '华泰证券': [0, 15.65], '常铝股份': [0, 4.16], '中国中期': [0, 9.63], '广发证券': [0, 13.35], '汉钟精机': [0, 9.89], '鲁北化工': [4000, 7.05], '亚厦股份': [0, 6.43]}\n",
            "20200317 {'中铁二局': [0, 13.12], '东兴证券': [0, 24.12], '远大智能': [0, 8.09], '东吴证券': [0, 12.56], '三一重工': [0, 5.49], '兴业矿业': [0, 8.36], '东方航空': [0, 7.0], '青岛海尔': [0, 9.95], '云铝股份': [0, 7.19], '山鹰纸业': [0, 2.92], '万通地产': [0, 4.92], '光环新网': [0, 40.87], '西安民生': [0, 10.05], '山西证券': [0, 14.39], '中 关 村': [0, 8.63], '中航资本': [0, 6.94], '日出东方': [0, 10.357000000000001], '国元证券': [0, 20.47], '盈峰环境': [0, 14.85], '双星新材': [0, 11.02], '蓝思科技': [0, 27.72], '珠江啤酒': [0, 13.4], '久其软件': [0, 18.28], '中国银河': [0, 12.43], '华安证券': [0, 10.6], '恒力股份': [0, 7.64], '网宿科技': [0, 11.41], '黑猫股份': [0, 8.0], '山西焦化': [0, 7.11], '飞乐音响': [0, 9.02], '金刚玻璃': [0, 16.95], '中信证券': [0, 16.73], '爱施德': [0, 6.0], '华泰证券': [0, 15.65], '常铝股份': [0, 4.16], '中国中期': [0, 9.63], '广发证券': [0, 13.35], '汉钟精机': [0, 9.89], '鲁北化工': [4000, 7.05], '亚厦股份': [1000, 6.17]}\n",
            "20200318 {'中铁二局': [0, 13.12], '东兴证券': [0, 24.12], '远大智能': [0, 8.09], '东吴证券': [0, 12.56], '三一重工': [0, 5.49], '兴业矿业': [0, 8.36], '东方航空': [0, 7.0], '青岛海尔': [0, 9.95], '云铝股份': [0, 7.19], '山鹰纸业': [0, 2.92], '万通地产': [0, 4.92], '光环新网': [0, 40.87], '西安民生': [0, 10.05], '山西证券': [0, 14.39], '中 关 村': [0, 8.63], '中航资本': [0, 6.94], '日出东方': [0, 10.357000000000001], '国元证券': [0, 20.47], '盈峰环境': [0, 14.85], '双星新材': [0, 11.02], '蓝思科技': [0, 27.72], '珠江啤酒': [0, 13.4], '久其软件': [0, 18.28], '中国银河': [0, 12.43], '华安证券': [0, 10.6], '恒力股份': [0, 7.64], '网宿科技': [0, 11.41], '黑猫股份': [0, 8.0], '山西焦化': [0, 7.11], '飞乐音响': [0, 9.02], '金刚玻璃': [0, 16.95], '中信证券': [0, 16.73], '爱施德': [0, 6.0], '华泰证券': [0, 15.65], '常铝股份': [0, 4.16], '中国中期': [0, 9.63], '广发证券': [0, 13.35], '汉钟精机': [0, 9.89], '鲁北化工': [0, 7.35], '亚厦股份': [1000, 6.17]}\n",
            "20200318 {'中铁二局': [0, 13.12], '东兴证券': [0, 24.12], '远大智能': [0, 8.09], '东吴证券': [0, 12.56], '三一重工': [0, 5.49], '兴业矿业': [0, 8.36], '东方航空': [0, 7.0], '青岛海尔': [0, 9.95], '云铝股份': [0, 7.19], '山鹰纸业': [0, 2.92], '万通地产': [0, 4.92], '光环新网': [0, 40.87], '西安民生': [0, 10.05], '山西证券': [0, 14.39], '中 关 村': [0, 8.63], '中航资本': [0, 6.94], '日出东方': [0, 10.357000000000001], '国元证券': [0, 20.47], '盈峰环境': [0, 14.85], '双星新材': [0, 11.02], '蓝思科技': [0, 27.72], '珠江啤酒': [0, 13.4], '久其软件': [0, 18.28], '中国银河': [0, 12.43], '华安证券': [0, 10.6], '恒力股份': [0, 7.64], '网宿科技': [0, 11.41], '黑猫股份': [0, 8.0], '山西焦化': [0, 7.11], '飞乐音响': [0, 9.02], '金刚玻璃': [0, 16.95], '中信证券': [0, 16.73], '爱施德': [0, 6.0], '华泰证券': [0, 15.65], '常铝股份': [0, 4.16], '中国中期': [0, 9.63], '广发证券': [0, 13.35], '汉钟精机': [0, 9.89], '鲁北化工': [0, 7.35], '亚厦股份': [1000, 6.17], '美尔雅': [400, 6.66]}\n",
            "20200318 {'中铁二局': [0, 13.12], '东兴证券': [0, 24.12], '远大智能': [0, 8.09], '东吴证券': [0, 12.56], '三一重工': [0, 5.49], '兴业矿业': [0, 8.36], '东方航空': [0, 7.0], '青岛海尔': [0, 9.95], '云铝股份': [0, 7.19], '山鹰纸业': [0, 2.92], '万通地产': [0, 4.92], '光环新网': [0, 40.87], '西安民生': [0, 10.05], '山西证券': [0, 14.39], '中 关 村': [0, 8.63], '中航资本': [0, 6.94], '日出东方': [0, 10.357000000000001], '国元证券': [0, 20.47], '盈峰环境': [0, 14.85], '双星新材': [0, 11.02], '蓝思科技': [0, 27.72], '珠江啤酒': [0, 13.4], '久其软件': [0, 18.28], '中国银河': [0, 12.43], '华安证券': [0, 10.6], '恒力股份': [0, 7.64], '网宿科技': [0, 11.41], '黑猫股份': [0, 8.0], '山西焦化': [0, 7.11], '飞乐音响': [0, 9.02], '金刚玻璃': [0, 16.95], '中信证券': [0, 16.73], '爱施德': [0, 6.0], '华泰证券': [0, 15.65], '常铝股份': [0, 4.16], '中国中期': [0, 9.63], '广发证券': [0, 13.35], '汉钟精机': [0, 9.89], '鲁北化工': [0, 7.35], '亚厦股份': [1000, 6.17], '美尔雅': [1000, 6.54]}\n",
            "20200318 {'中铁二局': [0, 13.12], '东兴证券': [0, 24.12], '远大智能': [0, 8.09], '东吴证券': [0, 12.56], '三一重工': [0, 5.49], '兴业矿业': [0, 8.36], '东方航空': [0, 7.0], '青岛海尔': [0, 9.95], '云铝股份': [0, 7.19], '山鹰纸业': [0, 2.92], '万通地产': [0, 4.92], '光环新网': [0, 40.87], '西安民生': [0, 10.05], '山西证券': [0, 14.39], '中 关 村': [0, 8.63], '中航资本': [0, 6.94], '日出东方': [0, 10.357000000000001], '国元证券': [0, 20.47], '盈峰环境': [0, 14.85], '双星新材': [0, 11.02], '蓝思科技': [0, 27.72], '珠江啤酒': [0, 13.4], '久其软件': [0, 18.28], '中国银河': [0, 12.43], '华安证券': [0, 10.6], '恒力股份': [0, 7.64], '网宿科技': [0, 11.41], '黑猫股份': [0, 8.0], '山西焦化': [0, 7.11], '飞乐音响': [0, 9.02], '金刚玻璃': [0, 16.95], '中信证券': [0, 16.73], '爱施德': [0, 6.0], '华泰证券': [0, 15.65], '常铝股份': [0, 4.16], '中国中期': [0, 9.63], '广发证券': [0, 13.35], '汉钟精机': [0, 9.89], '鲁北化工': [0, 7.35], '亚厦股份': [500, 6.44], '美尔雅': [1000, 6.54]}\n",
            "20200319 {'中铁二局': [0, 13.12], '东兴证券': [0, 24.12], '远大智能': [0, 8.09], '东吴证券': [0, 12.56], '三一重工': [0, 5.49], '兴业矿业': [0, 8.36], '东方航空': [0, 7.0], '青岛海尔': [0, 9.95], '云铝股份': [0, 7.19], '山鹰纸业': [0, 2.92], '万通地产': [0, 4.92], '光环新网': [0, 40.87], '西安民生': [0, 10.05], '山西证券': [0, 14.39], '中 关 村': [0, 8.63], '中航资本': [0, 6.94], '日出东方': [0, 10.357000000000001], '国元证券': [0, 20.47], '盈峰环境': [0, 14.85], '双星新材': [0, 11.02], '蓝思科技': [0, 27.72], '珠江啤酒': [0, 13.4], '久其软件': [0, 18.28], '中国银河': [0, 12.43], '华安证券': [0, 10.6], '恒力股份': [0, 7.64], '网宿科技': [0, 11.41], '黑猫股份': [0, 8.0], '山西焦化': [0, 7.11], '飞乐音响': [0, 9.02], '金刚玻璃': [0, 16.95], '中信证券': [0, 16.73], '爱施德': [0, 6.0], '华泰证券': [0, 15.65], '常铝股份': [0, 4.16], '中国中期': [0, 9.63], '广发证券': [0, 13.35], '汉钟精机': [0, 9.89], '鲁北化工': [0, 7.35], '亚厦股份': [500, 6.44], '美尔雅': [0, 6.65]}\n",
            "20200319 {'中铁二局': [0, 13.12], '东兴证券': [0, 24.12], '远大智能': [0, 8.09], '东吴证券': [0, 12.56], '三一重工': [0, 5.49], '兴业矿业': [0, 8.36], '东方航空': [0, 7.0], '青岛海尔': [0, 9.95], '云铝股份': [0, 7.19], '山鹰纸业': [0, 2.92], '万通地产': [0, 4.92], '光环新网': [0, 40.87], '西安民生': [0, 10.05], '山西证券': [0, 14.39], '中 关 村': [0, 8.63], '中航资本': [0, 6.94], '日出东方': [0, 10.357000000000001], '国元证券': [0, 20.47], '盈峰环境': [0, 14.85], '双星新材': [0, 11.02], '蓝思科技': [0, 27.72], '珠江啤酒': [0, 13.4], '久其软件': [0, 18.28], '中国银河': [0, 12.43], '华安证券': [0, 10.6], '恒力股份': [0, 7.64], '网宿科技': [0, 11.41], '黑猫股份': [0, 8.0], '山西焦化': [0, 7.11], '飞乐音响': [0, 9.02], '金刚玻璃': [0, 16.95], '中信证券': [0, 16.73], '爱施德': [0, 6.0], '华泰证券': [0, 15.65], '常铝股份': [0, 4.16], '中国中期': [0, 9.63], '广发证券': [0, 13.35], '汉钟精机': [0, 9.89], '鲁北化工': [0, 7.35], '亚厦股份': [500, 6.44], '美尔雅': [0, 6.65], '海正药业': [500, 15.45]}\n",
            "20200319 {'中铁二局': [0, 13.12], '东兴证券': [0, 24.12], '远大智能': [0, 8.09], '东吴证券': [0, 12.56], '三一重工': [0, 5.49], '兴业矿业': [0, 8.36], '东方航空': [0, 7.0], '青岛海尔': [0, 9.95], '云铝股份': [0, 7.19], '山鹰纸业': [0, 2.92], '万通地产': [0, 4.92], '光环新网': [0, 40.87], '西安民生': [0, 10.05], '山西证券': [0, 14.39], '中 关 村': [0, 8.63], '中航资本': [0, 6.94], '日出东方': [0, 10.357000000000001], '国元证券': [0, 20.47], '盈峰环境': [0, 14.85], '双星新材': [0, 11.02], '蓝思科技': [0, 27.72], '珠江啤酒': [0, 13.4], '久其软件': [0, 18.28], '中国银河': [0, 12.43], '华安证券': [0, 10.6], '恒力股份': [0, 7.64], '网宿科技': [0, 11.41], '黑猫股份': [0, 8.0], '山西焦化': [0, 7.11], '飞乐音响': [0, 9.02], '金刚玻璃': [0, 16.95], '中信证券': [0, 16.73], '爱施德': [0, 6.0], '华泰证券': [0, 15.65], '常铝股份': [0, 4.16], '中国中期': [0, 9.63], '广发证券': [0, 13.35], '汉钟精机': [0, 9.89], '鲁北化工': [0, 7.35], '亚厦股份': [0, 6.2], '美尔雅': [0, 6.65], '海正药业': [500, 15.45]}\n",
            "20200320 {'中铁二局': [0, 13.12], '东兴证券': [0, 24.12], '远大智能': [0, 8.09], '东吴证券': [0, 12.56], '三一重工': [0, 5.49], '兴业矿业': [0, 8.36], '东方航空': [0, 7.0], '青岛海尔': [0, 9.95], '云铝股份': [0, 7.19], '山鹰纸业': [0, 2.92], '万通地产': [0, 4.92], '光环新网': [0, 40.87], '西安民生': [0, 10.05], '山西证券': [0, 14.39], '中 关 村': [0, 8.63], '中航资本': [0, 6.94], '日出东方': [0, 10.357000000000001], '国元证券': [0, 20.47], '盈峰环境': [0, 14.85], '双星新材': [0, 11.02], '蓝思科技': [0, 27.72], '珠江啤酒': [0, 13.4], '久其软件': [0, 18.28], '中国银河': [0, 12.43], '华安证券': [0, 10.6], '恒力股份': [0, 7.64], '网宿科技': [0, 11.41], '黑猫股份': [0, 8.0], '山西焦化': [0, 7.11], '飞乐音响': [0, 9.02], '金刚玻璃': [0, 16.95], '中信证券': [0, 16.73], '爱施德': [0, 6.0], '华泰证券': [0, 15.65], '常铝股份': [0, 4.16], '中国中期': [0, 9.63], '广发证券': [0, 13.35], '汉钟精机': [0, 9.89], '鲁北化工': [0, 7.35], '亚厦股份': [0, 6.2], '美尔雅': [0, 6.65], '海正药业': [0, 16.0]}\n",
            "20200324 {'中铁二局': [0, 13.12], '东兴证券': [0, 24.12], '远大智能': [0, 8.09], '东吴证券': [0, 12.56], '三一重工': [0, 5.49], '兴业矿业': [0, 8.36], '东方航空': [0, 7.0], '青岛海尔': [0, 9.95], '云铝股份': [0, 7.19], '山鹰纸业': [0, 2.92], '万通地产': [0, 4.92], '光环新网': [0, 40.87], '西安民生': [0, 10.05], '山西证券': [0, 14.39], '中 关 村': [0, 8.63], '中航资本': [0, 6.94], '日出东方': [0, 10.357000000000001], '国元证券': [0, 20.47], '盈峰环境': [0, 14.85], '双星新材': [0, 11.02], '蓝思科技': [0, 27.72], '珠江啤酒': [0, 13.4], '久其软件': [0, 18.28], '中国银河': [0, 12.43], '华安证券': [0, 10.6], '恒力股份': [0, 7.64], '网宿科技': [0, 11.41], '黑猫股份': [0, 8.0], '山西焦化': [0, 7.11], '飞乐音响': [0, 9.02], '金刚玻璃': [0, 16.95], '中信证券': [0, 16.73], '爱施德': [0, 6.0], '华泰证券': [0, 15.65], '常铝股份': [0, 4.16], '中国中期': [0, 9.63], '广发证券': [0, 13.35], '汉钟精机': [0, 9.89], '鲁北化工': [2000, 7.2], '亚厦股份': [0, 6.2], '美尔雅': [0, 6.65], '海正药业': [0, 16.0]}\n",
            "20200324 {'中铁二局': [0, 13.12], '东兴证券': [0, 24.12], '远大智能': [0, 8.09], '东吴证券': [0, 12.56], '三一重工': [0, 5.49], '兴业矿业': [0, 8.36], '东方航空': [0, 7.0], '青岛海尔': [0, 9.95], '云铝股份': [0, 7.19], '山鹰纸业': [0, 2.92], '万通地产': [0, 4.92], '光环新网': [0, 40.87], '西安民生': [0, 10.05], '山西证券': [0, 14.39], '中 关 村': [0, 8.63], '中航资本': [0, 6.94], '日出东方': [0, 10.357000000000001], '国元证券': [0, 20.47], '盈峰环境': [0, 14.85], '双星新材': [0, 11.02], '蓝思科技': [0, 27.72], '珠江啤酒': [0, 13.4], '久其软件': [0, 18.28], '中国银河': [0, 12.43], '华安证券': [0, 10.6], '恒力股份': [0, 7.64], '网宿科技': [0, 11.41], '黑猫股份': [0, 8.0], '山西焦化': [0, 7.11], '飞乐音响': [0, 9.02], '金刚玻璃': [0, 16.95], '中信证券': [0, 16.73], '爱施德': [0, 6.0], '华泰证券': [0, 15.65], '常铝股份': [0, 4.16], '中国中期': [0, 9.63], '广发证券': [0, 13.35], '汉钟精机': [0, 9.89], '鲁北化工': [2000, 7.2], '亚厦股份': [0, 6.2], '美尔雅': [0, 6.65], '海正药业': [0, 16.0], '东北制药': [1000, 7.78]}\n",
            "20200324 {'中铁二局': [0, 13.12], '东兴证券': [0, 24.12], '远大智能': [0, 8.09], '东吴证券': [0, 12.56], '三一重工': [0, 5.49], '兴业矿业': [0, 8.36], '东方航空': [0, 7.0], '青岛海尔': [0, 9.95], '云铝股份': [0, 7.19], '山鹰纸业': [0, 2.92], '万通地产': [0, 4.92], '光环新网': [0, 40.87], '西安民生': [0, 10.05], '山西证券': [0, 14.39], '中 关 村': [0, 8.63], '中航资本': [0, 6.94], '日出东方': [0, 10.357000000000001], '国元证券': [0, 20.47], '盈峰环境': [0, 14.85], '双星新材': [0, 11.02], '蓝思科技': [0, 27.72], '珠江啤酒': [0, 13.4], '久其软件': [0, 18.28], '中国银河': [0, 12.43], '华安证券': [0, 10.6], '恒力股份': [0, 7.64], '网宿科技': [0, 11.41], '黑猫股份': [0, 8.0], '山西焦化': [0, 7.11], '飞乐音响': [0, 9.02], '金刚玻璃': [0, 16.95], '中信证券': [0, 16.73], '爱施德': [0, 6.0], '华泰证券': [0, 15.65], '常铝股份': [0, 4.16], '中国中期': [0, 9.63], '广发证券': [0, 13.35], '汉钟精机': [0, 9.89], '鲁北化工': [2000, 7.2], '亚厦股份': [0, 6.2], '美尔雅': [0, 6.65], '海正药业': [0, 16.0], '东北制药': [1000, 7.78], '中粮科技': [500, 7.09]}\n",
            "20200325 {'中铁二局': [0, 13.12], '东兴证券': [0, 24.12], '远大智能': [0, 8.09], '东吴证券': [0, 12.56], '三一重工': [0, 5.49], '兴业矿业': [0, 8.36], '东方航空': [0, 7.0], '青岛海尔': [0, 9.95], '云铝股份': [0, 7.19], '山鹰纸业': [0, 2.92], '万通地产': [0, 4.92], '光环新网': [0, 40.87], '西安民生': [0, 10.05], '山西证券': [0, 14.39], '中 关 村': [0, 8.63], '中航资本': [0, 6.94], '日出东方': [0, 10.357000000000001], '国元证券': [0, 20.47], '盈峰环境': [0, 14.85], '双星新材': [0, 11.02], '蓝思科技': [0, 27.72], '珠江啤酒': [0, 13.4], '久其软件': [0, 18.28], '中国银河': [0, 12.43], '华安证券': [0, 10.6], '恒力股份': [0, 7.64], '网宿科技': [0, 11.41], '黑猫股份': [0, 8.0], '山西焦化': [0, 7.11], '飞乐音响': [0, 9.02], '金刚玻璃': [0, 16.95], '中信证券': [0, 16.73], '爱施德': [0, 6.0], '华泰证券': [0, 15.65], '常铝股份': [0, 4.16], '中国中期': [0, 9.63], '广发证券': [0, 13.35], '汉钟精机': [0, 9.89], '鲁北化工': [0, 7.33], '亚厦股份': [0, 6.2], '美尔雅': [0, 6.65], '海正药业': [0, 16.0], '东北制药': [1000, 7.78], '中粮科技': [500, 7.09]}\n",
            "20200325 {'中铁二局': [0, 13.12], '东兴证券': [0, 24.12], '远大智能': [0, 8.09], '东吴证券': [0, 12.56], '三一重工': [0, 5.49], '兴业矿业': [0, 8.36], '东方航空': [0, 7.0], '青岛海尔': [0, 9.95], '云铝股份': [0, 7.19], '山鹰纸业': [0, 2.92], '万通地产': [0, 4.92], '光环新网': [0, 40.87], '西安民生': [0, 10.05], '山西证券': [0, 14.39], '中 关 村': [0, 8.63], '中航资本': [0, 6.94], '日出东方': [0, 10.357000000000001], '国元证券': [0, 20.47], '盈峰环境': [0, 14.85], '双星新材': [0, 11.02], '蓝思科技': [0, 27.72], '珠江啤酒': [0, 13.4], '久其软件': [0, 18.28], '中国银河': [0, 12.43], '华安证券': [0, 10.6], '恒力股份': [0, 7.64], '网宿科技': [0, 11.41], '黑猫股份': [0, 8.0], '山西焦化': [0, 7.11], '飞乐音响': [0, 9.02], '金刚玻璃': [0, 16.95], '中信证券': [0, 16.73], '爱施德': [0, 6.0], '华泰证券': [0, 15.65], '常铝股份': [0, 4.16], '中国中期': [0, 9.63], '广发证券': [0, 13.35], '汉钟精机': [0, 9.89], '鲁北化工': [0, 7.33], '亚厦股份': [0, 6.2], '美尔雅': [0, 6.65], '海正药业': [0, 16.0], '东北制药': [0, 8.0], '中粮科技': [500, 7.09]}\n",
            "20200325 {'中铁二局': [0, 13.12], '东兴证券': [0, 24.12], '远大智能': [0, 8.09], '东吴证券': [0, 12.56], '三一重工': [0, 5.49], '兴业矿业': [0, 8.36], '东方航空': [0, 7.0], '青岛海尔': [0, 9.95], '云铝股份': [0, 7.19], '山鹰纸业': [0, 2.92], '万通地产': [0, 4.92], '光环新网': [0, 40.87], '西安民生': [0, 10.05], '山西证券': [0, 14.39], '中 关 村': [0, 8.63], '中航资本': [0, 6.94], '日出东方': [0, 10.357000000000001], '国元证券': [0, 20.47], '盈峰环境': [0, 14.85], '双星新材': [0, 11.02], '蓝思科技': [0, 27.72], '珠江啤酒': [0, 13.4], '久其软件': [0, 18.28], '中国银河': [0, 12.43], '华安证券': [0, 10.6], '恒力股份': [0, 7.64], '网宿科技': [0, 11.41], '黑猫股份': [0, 8.0], '山西焦化': [0, 7.11], '飞乐音响': [0, 9.02], '金刚玻璃': [0, 16.95], '中信证券': [0, 16.73], '爱施德': [0, 6.0], '华泰证券': [0, 15.65], '常铝股份': [0, 4.16], '中国中期': [0, 9.63], '广发证券': [0, 13.35], '汉钟精机': [0, 9.89], '鲁北化工': [0, 7.33], '亚厦股份': [0, 6.2], '美尔雅': [0, 6.65], '海正药业': [0, 16.0], '东北制药': [0, 8.0], '中粮科技': [0, 7.35]}\n",
            "20200330 {'中铁二局': [0, 13.12], '东兴证券': [0, 24.12], '远大智能': [0, 8.09], '东吴证券': [0, 12.56], '三一重工': [0, 5.49], '兴业矿业': [0, 8.36], '东方航空': [0, 7.0], '青岛海尔': [0, 9.95], '云铝股份': [0, 7.19], '山鹰纸业': [0, 2.92], '万通地产': [0, 4.92], '光环新网': [0, 40.87], '西安民生': [0, 10.05], '山西证券': [0, 14.39], '中 关 村': [0, 8.63], '中航资本': [0, 6.94], '日出东方': [0, 10.357000000000001], '国元证券': [0, 20.47], '盈峰环境': [0, 14.85], '双星新材': [0, 11.02], '蓝思科技': [0, 27.72], '珠江啤酒': [0, 13.4], '久其软件': [0, 18.28], '中国银河': [0, 12.43], '华安证券': [0, 10.6], '恒力股份': [0, 7.64], '网宿科技': [0, 11.41], '黑猫股份': [0, 8.0], '山西焦化': [0, 7.11], '飞乐音响': [0, 9.02], '金刚玻璃': [0, 16.95], '中信证券': [0, 16.73], '爱施德': [0, 6.0], '华泰证券': [0, 15.65], '常铝股份': [0, 4.16], '中国中期': [0, 9.63], '广发证券': [0, 13.35], '汉钟精机': [0, 9.89], '鲁北化工': [0, 7.33], '亚厦股份': [0, 6.2], '美尔雅': [0, 6.65], '海正药业': [0, 16.0], '东北制药': [0, 8.0], '中粮科技': [0, 7.35], '广日股份': [1000, 7.05]}\n",
            "20200330 {'中铁二局': [0, 13.12], '东兴证券': [0, 24.12], '远大智能': [0, 8.09], '东吴证券': [0, 12.56], '三一重工': [0, 5.49], '兴业矿业': [0, 8.36], '东方航空': [0, 7.0], '青岛海尔': [0, 9.95], '云铝股份': [0, 7.19], '山鹰纸业': [0, 2.92], '万通地产': [0, 4.92], '光环新网': [0, 40.87], '西安民生': [0, 10.05], '山西证券': [0, 14.39], '中 关 村': [0, 8.63], '中航资本': [0, 6.94], '日出东方': [0, 10.357000000000001], '国元证券': [0, 20.47], '盈峰环境': [0, 14.85], '双星新材': [0, 11.02], '蓝思科技': [0, 27.72], '珠江啤酒': [0, 13.4], '久其软件': [0, 18.28], '中国银河': [0, 12.43], '华安证券': [0, 10.6], '恒力股份': [0, 7.64], '网宿科技': [0, 11.41], '黑猫股份': [0, 8.0], '山西焦化': [0, 7.11], '飞乐音响': [0, 9.02], '金刚玻璃': [0, 16.95], '中信证券': [0, 16.73], '爱施德': [0, 6.0], '华泰证券': [0, 15.65], '常铝股份': [0, 4.16], '中国中期': [0, 9.63], '广发证券': [0, 13.35], '汉钟精机': [0, 9.89], '鲁北化工': [0, 7.33], '亚厦股份': [0, 6.2], '美尔雅': [0, 6.65], '海正药业': [0, 16.0], '东北制药': [0, 8.0], '中粮科技': [0, 7.35], '广日股份': [1000, 7.05], '粤 水 电': [1000, 3.0]}\n",
            "20200330 {'中铁二局': [0, 13.12], '东兴证券': [0, 24.12], '远大智能': [0, 8.09], '东吴证券': [0, 12.56], '三一重工': [0, 5.49], '兴业矿业': [0, 8.36], '东方航空': [0, 7.0], '青岛海尔': [0, 9.95], '云铝股份': [0, 7.19], '山鹰纸业': [0, 2.92], '万通地产': [0, 4.92], '光环新网': [0, 40.87], '西安民生': [0, 10.05], '山西证券': [0, 14.39], '中 关 村': [0, 8.63], '中航资本': [0, 6.94], '日出东方': [0, 10.357000000000001], '国元证券': [0, 20.47], '盈峰环境': [0, 14.85], '双星新材': [0, 11.02], '蓝思科技': [0, 27.72], '珠江啤酒': [0, 13.4], '久其软件': [0, 18.28], '中国银河': [0, 12.43], '华安证券': [0, 10.6], '恒力股份': [0, 7.64], '网宿科技': [0, 11.41], '黑猫股份': [0, 8.0], '山西焦化': [0, 7.11], '飞乐音响': [0, 9.02], '金刚玻璃': [0, 16.95], '中信证券': [0, 16.73], '爱施德': [0, 6.0], '华泰证券': [0, 15.65], '常铝股份': [0, 4.16], '中国中期': [0, 9.63], '广发证券': [0, 13.35], '汉钟精机': [0, 9.89], '鲁北化工': [0, 7.33], '亚厦股份': [0, 6.2], '美尔雅': [0, 6.65], '海正药业': [0, 16.0], '东北制药': [0, 8.0], '中粮科技': [0, 7.35], '广日股份': [1000, 7.05], '粤 水 电': [1000, 3.0], '国统股份': [1000, 13.26]}\n",
            "20200331 {'中铁二局': [0, 13.12], '东兴证券': [0, 24.12], '远大智能': [0, 8.09], '东吴证券': [0, 12.56], '三一重工': [0, 5.49], '兴业矿业': [0, 8.36], '东方航空': [0, 7.0], '青岛海尔': [0, 9.95], '云铝股份': [0, 7.19], '山鹰纸业': [0, 2.92], '万通地产': [0, 4.92], '光环新网': [0, 40.87], '西安民生': [0, 10.05], '山西证券': [0, 14.39], '中 关 村': [0, 8.63], '中航资本': [0, 6.94], '日出东方': [0, 10.357000000000001], '国元证券': [0, 20.47], '盈峰环境': [0, 14.85], '双星新材': [0, 11.02], '蓝思科技': [0, 27.72], '珠江啤酒': [0, 13.4], '久其软件': [0, 18.28], '中国银河': [0, 12.43], '华安证券': [0, 10.6], '恒力股份': [0, 7.64], '网宿科技': [0, 11.41], '黑猫股份': [0, 8.0], '山西焦化': [0, 7.11], '飞乐音响': [0, 9.02], '金刚玻璃': [0, 16.95], '中信证券': [0, 16.73], '爱施德': [0, 6.0], '华泰证券': [0, 15.65], '常铝股份': [0, 4.16], '中国中期': [0, 9.63], '广发证券': [0, 13.35], '汉钟精机': [0, 9.89], '鲁北化工': [0, 7.33], '亚厦股份': [0, 6.2], '美尔雅': [0, 6.65], '海正药业': [0, 16.0], '东北制药': [0, 8.0], '中粮科技': [0, 7.35], '广日股份': [0, 7.14], '粤 水 电': [1000, 3.0], '国统股份': [1000, 13.26]}\n",
            "20200331 {'中铁二局': [0, 13.12], '东兴证券': [0, 24.12], '远大智能': [0, 8.09], '东吴证券': [0, 12.56], '三一重工': [0, 5.49], '兴业矿业': [0, 8.36], '东方航空': [0, 7.0], '青岛海尔': [0, 9.95], '云铝股份': [0, 7.19], '山鹰纸业': [0, 2.92], '万通地产': [0, 4.92], '光环新网': [0, 40.87], '西安民生': [0, 10.05], '山西证券': [0, 14.39], '中 关 村': [0, 8.63], '中航资本': [0, 6.94], '日出东方': [0, 10.357000000000001], '国元证券': [0, 20.47], '盈峰环境': [0, 14.85], '双星新材': [0, 11.02], '蓝思科技': [0, 27.72], '珠江啤酒': [0, 13.4], '久其软件': [0, 18.28], '中国银河': [0, 12.43], '华安证券': [0, 10.6], '恒力股份': [0, 7.64], '网宿科技': [0, 11.41], '黑猫股份': [0, 8.0], '山西焦化': [0, 7.11], '飞乐音响': [0, 9.02], '金刚玻璃': [0, 16.95], '中信证券': [0, 16.73], '爱施德': [0, 6.0], '华泰证券': [0, 15.65], '常铝股份': [0, 4.16], '中国中期': [0, 9.63], '广发证券': [0, 13.35], '汉钟精机': [0, 9.89], '鲁北化工': [0, 7.33], '亚厦股份': [0, 6.2], '美尔雅': [0, 6.65], '海正药业': [0, 16.0], '东北制药': [0, 8.0], '中粮科技': [0, 7.35], '广日股份': [0, 7.14], '粤 水 电': [1000, 3.0], '国统股份': [1000, 13.26], '中船防务': [500, 13.29]}\n",
            "20200331 {'中铁二局': [0, 13.12], '东兴证券': [0, 24.12], '远大智能': [0, 8.09], '东吴证券': [0, 12.56], '三一重工': [0, 5.49], '兴业矿业': [0, 8.36], '东方航空': [0, 7.0], '青岛海尔': [0, 9.95], '云铝股份': [0, 7.19], '山鹰纸业': [0, 2.92], '万通地产': [0, 4.92], '光环新网': [0, 40.87], '西安民生': [0, 10.05], '山西证券': [0, 14.39], '中 关 村': [0, 8.63], '中航资本': [0, 6.94], '日出东方': [0, 10.357000000000001], '国元证券': [0, 20.47], '盈峰环境': [0, 14.85], '双星新材': [0, 11.02], '蓝思科技': [0, 27.72], '珠江啤酒': [0, 13.4], '久其软件': [0, 18.28], '中国银河': [0, 12.43], '华安证券': [0, 10.6], '恒力股份': [0, 7.64], '网宿科技': [0, 11.41], '黑猫股份': [0, 8.0], '山西焦化': [0, 7.11], '飞乐音响': [0, 9.02], '金刚玻璃': [0, 16.95], '中信证券': [0, 16.73], '爱施德': [0, 6.0], '华泰证券': [0, 15.65], '常铝股份': [0, 4.16], '中国中期': [0, 9.63], '广发证券': [0, 13.35], '汉钟精机': [0, 9.89], '鲁北化工': [0, 7.33], '亚厦股份': [0, 6.2], '美尔雅': [0, 6.65], '海正药业': [0, 16.0], '东北制药': [0, 8.0], '中粮科技': [0, 7.35], '广日股份': [0, 7.14], '粤 水 电': [0, 3.12], '国统股份': [1000, 13.26], '中船防务': [500, 13.29]}\n",
            "20200331 {'中铁二局': [0, 13.12], '东兴证券': [0, 24.12], '远大智能': [0, 8.09], '东吴证券': [0, 12.56], '三一重工': [0, 5.49], '兴业矿业': [0, 8.36], '东方航空': [0, 7.0], '青岛海尔': [0, 9.95], '云铝股份': [0, 7.19], '山鹰纸业': [0, 2.92], '万通地产': [0, 4.92], '光环新网': [0, 40.87], '西安民生': [0, 10.05], '山西证券': [0, 14.39], '中 关 村': [0, 8.63], '中航资本': [0, 6.94], '日出东方': [0, 10.357000000000001], '国元证券': [0, 20.47], '盈峰环境': [0, 14.85], '双星新材': [0, 11.02], '蓝思科技': [0, 27.72], '珠江啤酒': [0, 13.4], '久其软件': [0, 18.28], '中国银河': [0, 12.43], '华安证券': [0, 10.6], '恒力股份': [0, 7.64], '网宿科技': [0, 11.41], '黑猫股份': [0, 8.0], '山西焦化': [0, 7.11], '飞乐音响': [0, 9.02], '金刚玻璃': [0, 16.95], '中信证券': [0, 16.73], '爱施德': [0, 6.0], '华泰证券': [0, 15.65], '常铝股份': [0, 4.16], '中国中期': [0, 9.63], '广发证券': [0, 13.35], '汉钟精机': [0, 9.89], '鲁北化工': [0, 7.33], '亚厦股份': [0, 6.2], '美尔雅': [0, 6.65], '海正药业': [0, 16.0], '东北制药': [0, 8.0], '中粮科技': [0, 7.35], '广日股份': [0, 7.14], '粤 水 电': [0, 3.12], '国统股份': [500, 15.35], '中船防务': [500, 13.29]}\n",
            "20200331 {'中铁二局': [0, 13.12], '东兴证券': [0, 24.12], '远大智能': [0, 8.09], '东吴证券': [0, 12.56], '三一重工': [0, 5.49], '兴业矿业': [0, 8.36], '东方航空': [0, 7.0], '青岛海尔': [0, 9.95], '云铝股份': [0, 7.19], '山鹰纸业': [0, 2.92], '万通地产': [0, 4.92], '光环新网': [0, 40.87], '西安民生': [0, 10.05], '山西证券': [0, 14.39], '中 关 村': [0, 8.63], '中航资本': [0, 6.94], '日出东方': [0, 10.357000000000001], '国元证券': [0, 20.47], '盈峰环境': [0, 14.85], '双星新材': [0, 11.02], '蓝思科技': [0, 27.72], '珠江啤酒': [0, 13.4], '久其软件': [0, 18.28], '中国银河': [0, 12.43], '华安证券': [0, 10.6], '恒力股份': [0, 7.64], '网宿科技': [0, 11.41], '黑猫股份': [0, 8.0], '山西焦化': [0, 7.11], '飞乐音响': [0, 9.02], '金刚玻璃': [0, 16.95], '中信证券': [0, 16.73], '爱施德': [0, 6.0], '华泰证券': [0, 15.65], '常铝股份': [0, 4.16], '中国中期': [0, 9.63], '广发证券': [0, 13.35], '汉钟精机': [0, 9.89], '鲁北化工': [0, 7.33], '亚厦股份': [0, 6.2], '美尔雅': [0, 6.65], '海正药业': [0, 16.0], '东北制药': [0, 8.0], '中粮科技': [0, 7.35], '广日股份': [0, 7.14], '粤 水 电': [0, 3.12], '国统股份': [0, 15.57], '中船防务': [500, 13.29]}\n",
            "20200331 {'中铁二局': [0, 13.12], '东兴证券': [0, 24.12], '远大智能': [0, 8.09], '东吴证券': [0, 12.56], '三一重工': [0, 5.49], '兴业矿业': [0, 8.36], '东方航空': [0, 7.0], '青岛海尔': [0, 9.95], '云铝股份': [0, 7.19], '山鹰纸业': [0, 2.92], '万通地产': [0, 4.92], '光环新网': [0, 40.87], '西安民生': [0, 10.05], '山西证券': [0, 14.39], '中 关 村': [0, 8.63], '中航资本': [0, 6.94], '日出东方': [0, 10.357000000000001], '国元证券': [0, 20.47], '盈峰环境': [0, 14.85], '双星新材': [0, 11.02], '蓝思科技': [0, 27.72], '珠江啤酒': [0, 13.4], '久其软件': [0, 18.28], '中国银河': [0, 12.43], '华安证券': [0, 10.6], '恒力股份': [0, 7.64], '网宿科技': [0, 11.41], '黑猫股份': [0, 8.0], '山西焦化': [0, 7.11], '飞乐音响': [0, 9.02], '金刚玻璃': [0, 16.95], '中信证券': [0, 16.73], '爱施德': [0, 6.0], '华泰证券': [0, 15.65], '常铝股份': [0, 4.16], '中国中期': [0, 9.63], '广发证券': [0, 13.35], '汉钟精机': [0, 9.89], '鲁北化工': [0, 7.33], '亚厦股份': [0, 6.2], '美尔雅': [0, 6.65], '海正药业': [0, 16.0], '东北制药': [1000, 7.5], '中粮科技': [0, 7.35], '广日股份': [0, 7.14], '粤 水 电': [0, 3.12], '国统股份': [0, 15.57], '中船防务': [500, 13.29]}\n",
            "20200401 {'中铁二局': [0, 13.12], '东兴证券': [0, 24.12], '远大智能': [0, 8.09], '东吴证券': [0, 12.56], '三一重工': [0, 5.49], '兴业矿业': [0, 8.36], '东方航空': [0, 7.0], '青岛海尔': [0, 9.95], '云铝股份': [0, 7.19], '山鹰纸业': [0, 2.92], '万通地产': [0, 4.92], '光环新网': [0, 40.87], '西安民生': [0, 10.05], '山西证券': [0, 14.39], '中 关 村': [0, 8.63], '中航资本': [0, 6.94], '日出东方': [0, 10.357000000000001], '国元证券': [0, 20.47], '盈峰环境': [0, 14.85], '双星新材': [0, 11.02], '蓝思科技': [0, 27.72], '珠江啤酒': [0, 13.4], '久其软件': [0, 18.28], '中国银河': [0, 12.43], '华安证券': [0, 10.6], '恒力股份': [0, 7.64], '网宿科技': [0, 11.41], '黑猫股份': [0, 8.0], '山西焦化': [0, 7.11], '飞乐音响': [0, 9.02], '金刚玻璃': [0, 16.95], '中信证券': [0, 16.73], '爱施德': [0, 6.0], '华泰证券': [0, 15.65], '常铝股份': [0, 4.16], '中国中期': [0, 9.63], '广发证券': [0, 13.35], '汉钟精机': [0, 9.89], '鲁北化工': [0, 7.33], '亚厦股份': [0, 6.2], '美尔雅': [0, 6.65], '海正药业': [0, 16.0], '东北制药': [1000, 7.5], '中粮科技': [0, 7.35], '广日股份': [0, 7.14], '粤 水 电': [0, 3.12], '国统股份': [0, 15.57], '中船防务': [500, 13.29], '招商轮船': [1000, 6.252000000000001]}\n",
            "20200401 {'中铁二局': [0, 13.12], '东兴证券': [0, 24.12], '远大智能': [0, 8.09], '东吴证券': [0, 12.56], '三一重工': [0, 5.49], '兴业矿业': [0, 8.36], '东方航空': [0, 7.0], '青岛海尔': [0, 9.95], '云铝股份': [0, 7.19], '山鹰纸业': [0, 2.92], '万通地产': [0, 4.92], '光环新网': [0, 40.87], '西安民生': [0, 10.05], '山西证券': [0, 14.39], '中 关 村': [0, 8.63], '中航资本': [0, 6.94], '日出东方': [0, 10.357000000000001], '国元证券': [0, 20.47], '盈峰环境': [0, 14.85], '双星新材': [0, 11.02], '蓝思科技': [0, 27.72], '珠江啤酒': [0, 13.4], '久其软件': [0, 18.28], '中国银河': [0, 12.43], '华安证券': [0, 10.6], '恒力股份': [0, 7.64], '网宿科技': [0, 11.41], '黑猫股份': [0, 8.0], '山西焦化': [0, 7.11], '飞乐音响': [0, 9.02], '金刚玻璃': [0, 16.95], '中信证券': [0, 16.73], '爱施德': [0, 6.0], '华泰证券': [0, 15.65], '常铝股份': [0, 4.16], '中国中期': [0, 9.63], '广发证券': [0, 13.35], '汉钟精机': [0, 9.89], '鲁北化工': [0, 7.33], '亚厦股份': [0, 6.2], '美尔雅': [0, 6.65], '海正药业': [0, 16.0], '东北制药': [1000, 7.5], '中粮科技': [0, 7.35], '广日股份': [0, 7.14], '粤 水 电': [0, 3.12], '国统股份': [0, 15.57], '中船防务': [500, 13.29], '招商轮船': [1000, 6.252000000000001], '大西洋': [1000, 3.08]}\n",
            "20200401 {'中铁二局': [0, 13.12], '东兴证券': [0, 24.12], '远大智能': [0, 8.09], '东吴证券': [0, 12.56], '三一重工': [0, 5.49], '兴业矿业': [0, 8.36], '东方航空': [0, 7.0], '青岛海尔': [0, 9.95], '云铝股份': [0, 7.19], '山鹰纸业': [0, 2.92], '万通地产': [0, 4.92], '光环新网': [0, 40.87], '西安民生': [0, 10.05], '山西证券': [0, 14.39], '中 关 村': [0, 8.63], '中航资本': [0, 6.94], '日出东方': [0, 10.357000000000001], '国元证券': [0, 20.47], '盈峰环境': [0, 14.85], '双星新材': [0, 11.02], '蓝思科技': [0, 27.72], '珠江啤酒': [0, 13.4], '久其软件': [0, 18.28], '中国银河': [0, 12.43], '华安证券': [0, 10.6], '恒力股份': [0, 7.64], '网宿科技': [0, 11.41], '黑猫股份': [0, 8.0], '山西焦化': [0, 7.11], '飞乐音响': [0, 9.02], '金刚玻璃': [0, 16.95], '中信证券': [0, 16.73], '爱施德': [0, 6.0], '华泰证券': [0, 15.65], '常铝股份': [0, 4.16], '中国中期': [0, 9.63], '广发证券': [0, 13.35], '汉钟精机': [0, 9.89], '鲁北化工': [0, 7.33], '亚厦股份': [0, 6.2], '美尔雅': [0, 6.65], '海正药业': [0, 16.0], '东北制药': [1000, 7.5], '中粮科技': [0, 7.35], '广日股份': [0, 7.14], '粤 水 电': [0, 3.12], '国统股份': [0, 15.57], '中船防务': [0, 14.0], '招商轮船': [1000, 6.252000000000001], '大西洋': [1000, 3.08]}\n",
            "20200402 {'中铁二局': [0, 13.12], '东兴证券': [0, 24.12], '远大智能': [0, 8.09], '东吴证券': [0, 12.56], '三一重工': [0, 5.49], '兴业矿业': [0, 8.36], '东方航空': [0, 7.0], '青岛海尔': [0, 9.95], '云铝股份': [0, 7.19], '山鹰纸业': [0, 2.92], '万通地产': [0, 4.92], '光环新网': [0, 40.87], '西安民生': [0, 10.05], '山西证券': [0, 14.39], '中 关 村': [0, 8.63], '中航资本': [0, 6.94], '日出东方': [0, 10.357000000000001], '国元证券': [0, 20.47], '盈峰环境': [0, 14.85], '双星新材': [0, 11.02], '蓝思科技': [0, 27.72], '珠江啤酒': [0, 13.4], '久其软件': [0, 18.28], '中国银河': [0, 12.43], '华安证券': [0, 10.6], '恒力股份': [0, 7.64], '网宿科技': [0, 11.41], '黑猫股份': [0, 8.0], '山西焦化': [0, 7.11], '飞乐音响': [0, 9.02], '金刚玻璃': [0, 16.95], '中信证券': [0, 16.73], '爱施德': [0, 6.0], '华泰证券': [0, 15.65], '常铝股份': [0, 4.16], '中国中期': [0, 9.63], '广发证券': [0, 13.35], '汉钟精机': [0, 9.89], '鲁北化工': [0, 7.33], '亚厦股份': [0, 6.2], '美尔雅': [0, 6.65], '海正药业': [0, 16.0], '东北制药': [1000, 7.5], '中粮科技': [0, 7.35], '广日股份': [0, 7.14], '粤 水 电': [0, 3.12], '国统股份': [0, 15.57], '中船防务': [0, 14.0], '招商轮船': [1000, 6.252000000000001], '大西洋': [1000, 3.08], '国机汽车': [500, 5.48]}\n",
            "20200402 {'中铁二局': [0, 13.12], '东兴证券': [0, 24.12], '远大智能': [0, 8.09], '东吴证券': [0, 12.56], '三一重工': [0, 5.49], '兴业矿业': [0, 8.36], '东方航空': [0, 7.0], '青岛海尔': [0, 9.95], '云铝股份': [0, 7.19], '山鹰纸业': [0, 2.92], '万通地产': [0, 4.92], '光环新网': [0, 40.87], '西安民生': [0, 10.05], '山西证券': [0, 14.39], '中 关 村': [0, 8.63], '中航资本': [0, 6.94], '日出东方': [0, 10.357000000000001], '国元证券': [0, 20.47], '盈峰环境': [0, 14.85], '双星新材': [0, 11.02], '蓝思科技': [0, 27.72], '珠江啤酒': [0, 13.4], '久其软件': [0, 18.28], '中国银河': [0, 12.43], '华安证券': [0, 10.6], '恒力股份': [0, 7.64], '网宿科技': [0, 11.41], '黑猫股份': [0, 8.0], '山西焦化': [0, 7.11], '飞乐音响': [0, 9.02], '金刚玻璃': [0, 16.95], '中信证券': [0, 16.73], '爱施德': [0, 6.0], '华泰证券': [0, 15.65], '常铝股份': [0, 4.16], '中国中期': [0, 9.63], '广发证券': [0, 13.35], '汉钟精机': [0, 9.89], '鲁北化工': [0, 7.33], '亚厦股份': [0, 6.2], '美尔雅': [0, 6.65], '海正药业': [0, 16.0], '东北制药': [1000, 7.5], '中粮科技': [0, 7.35], '广日股份': [0, 7.14], '粤 水 电': [0, 3.12], '国统股份': [0, 15.57], '中船防务': [0, 14.0], '招商轮船': [0, 6.47], '大西洋': [1000, 3.08], '国机汽车': [500, 5.48]}\n",
            "20200402 {'中铁二局': [0, 13.12], '东兴证券': [0, 24.12], '远大智能': [0, 8.09], '东吴证券': [0, 12.56], '三一重工': [0, 5.49], '兴业矿业': [0, 8.36], '东方航空': [0, 7.0], '青岛海尔': [0, 9.95], '云铝股份': [0, 7.19], '山鹰纸业': [0, 2.92], '万通地产': [0, 4.92], '光环新网': [0, 40.87], '西安民生': [0, 10.05], '山西证券': [0, 14.39], '中 关 村': [0, 8.63], '中航资本': [0, 6.94], '日出东方': [0, 10.357000000000001], '国元证券': [0, 20.47], '盈峰环境': [0, 14.85], '双星新材': [0, 11.02], '蓝思科技': [0, 27.72], '珠江啤酒': [0, 13.4], '久其软件': [0, 18.28], '中国银河': [0, 12.43], '华安证券': [0, 10.6], '恒力股份': [0, 7.64], '网宿科技': [0, 11.41], '黑猫股份': [0, 8.0], '山西焦化': [0, 7.11], '飞乐音响': [0, 9.02], '金刚玻璃': [0, 16.95], '中信证券': [0, 16.73], '爱施德': [0, 6.0], '华泰证券': [0, 15.65], '常铝股份': [0, 4.16], '中国中期': [0, 9.63], '广发证券': [0, 13.35], '汉钟精机': [0, 9.89], '鲁北化工': [0, 7.33], '亚厦股份': [0, 6.2], '美尔雅': [0, 6.65], '海正药业': [0, 16.0], '东北制药': [1000, 7.5], '中粮科技': [0, 7.35], '广日股份': [0, 7.14], '粤 水 电': [0, 3.12], '国统股份': [0, 15.57], '中船防务': [0, 14.0], '招商轮船': [0, 6.47], '大西洋': [0, 3.1], '国机汽车': [500, 5.48]}\n",
            "20200407 {'中铁二局': [0, 13.12], '东兴证券': [0, 24.12], '远大智能': [0, 8.09], '东吴证券': [0, 12.56], '三一重工': [0, 5.49], '兴业矿业': [0, 8.36], '东方航空': [0, 7.0], '青岛海尔': [0, 9.95], '云铝股份': [0, 7.19], '山鹰纸业': [0, 2.92], '万通地产': [0, 4.92], '光环新网': [0, 40.87], '西安民生': [0, 10.05], '山西证券': [0, 14.39], '中 关 村': [0, 8.63], '中航资本': [0, 6.94], '日出东方': [0, 10.357000000000001], '国元证券': [0, 20.47], '盈峰环境': [0, 14.85], '双星新材': [0, 11.02], '蓝思科技': [0, 27.72], '珠江啤酒': [0, 13.4], '久其软件': [0, 18.28], '中国银河': [0, 12.43], '华安证券': [0, 10.6], '恒力股份': [0, 7.64], '网宿科技': [0, 11.41], '黑猫股份': [0, 8.0], '山西焦化': [0, 7.11], '飞乐音响': [0, 9.02], '金刚玻璃': [0, 16.95], '中信证券': [0, 16.73], '爱施德': [0, 6.0], '华泰证券': [0, 15.65], '常铝股份': [0, 4.16], '中国中期': [0, 9.63], '广发证券': [0, 13.35], '汉钟精机': [0, 9.89], '鲁北化工': [0, 7.33], '亚厦股份': [0, 6.2], '美尔雅': [0, 6.65], '海正药业': [0, 16.0], '东北制药': [0, 7.94], '中粮科技': [0, 7.35], '广日股份': [0, 7.14], '粤 水 电': [0, 3.12], '国统股份': [0, 15.57], '中船防务': [0, 14.0], '招商轮船': [0, 6.47], '大西洋': [0, 3.1], '国机汽车': [500, 5.48]}\n",
            "20200409 {'中铁二局': [0, 13.12], '东兴证券': [0, 24.12], '远大智能': [0, 8.09], '东吴证券': [0, 12.56], '三一重工': [0, 5.49], '兴业矿业': [0, 8.36], '东方航空': [0, 7.0], '青岛海尔': [0, 9.95], '云铝股份': [0, 7.19], '山鹰纸业': [0, 2.92], '万通地产': [0, 4.92], '光环新网': [0, 40.87], '西安民生': [0, 10.05], '山西证券': [0, 14.39], '中 关 村': [0, 8.63], '中航资本': [0, 6.94], '日出东方': [0, 10.357000000000001], '国元证券': [0, 20.47], '盈峰环境': [0, 14.85], '双星新材': [0, 11.02], '蓝思科技': [0, 27.72], '珠江啤酒': [0, 13.4], '久其软件': [0, 18.28], '中国银河': [0, 12.43], '华安证券': [0, 10.6], '恒力股份': [0, 7.64], '网宿科技': [0, 11.41], '黑猫股份': [0, 8.0], '山西焦化': [0, 7.11], '飞乐音响': [0, 9.02], '金刚玻璃': [0, 16.95], '中信证券': [0, 16.73], '爱施德': [0, 6.0], '华泰证券': [0, 15.65], '常铝股份': [0, 4.16], '中国中期': [0, 9.63], '广发证券': [0, 13.35], '汉钟精机': [0, 9.89], '鲁北化工': [0, 7.33], '亚厦股份': [0, 6.2], '美尔雅': [0, 6.65], '海正药业': [0, 16.0], '东北制药': [0, 7.94], '中粮科技': [0, 7.35], '广日股份': [0, 7.14], '粤 水 电': [0, 3.12], '国统股份': [0, 15.57], '中船防务': [0, 14.0], '招商轮船': [0, 6.47], '大西洋': [0, 3.1], '国机汽车': [0, 5.55]}\n",
            "20200413 {'中铁二局': [0, 13.12], '东兴证券': [0, 24.12], '远大智能': [0, 8.09], '东吴证券': [0, 12.56], '三一重工': [0, 5.49], '兴业矿业': [0, 8.36], '东方航空': [0, 7.0], '青岛海尔': [0, 9.95], '云铝股份': [0, 7.19], '山鹰纸业': [0, 2.92], '万通地产': [0, 4.92], '光环新网': [0, 40.87], '西安民生': [0, 10.05], '山西证券': [0, 14.39], '中 关 村': [0, 8.63], '中航资本': [0, 6.94], '日出东方': [0, 10.357000000000001], '国元证券': [0, 20.47], '盈峰环境': [0, 14.85], '双星新材': [0, 11.02], '蓝思科技': [0, 27.72], '珠江啤酒': [0, 13.4], '久其软件': [0, 18.28], '中国银河': [0, 12.43], '华安证券': [0, 10.6], '恒力股份': [0, 7.64], '网宿科技': [0, 11.41], '黑猫股份': [0, 8.0], '山西焦化': [0, 7.11], '飞乐音响': [0, 9.02], '金刚玻璃': [0, 16.95], '中信证券': [0, 16.73], '爱施德': [0, 6.0], '华泰证券': [0, 15.65], '常铝股份': [0, 4.16], '中国中期': [0, 9.63], '广发证券': [0, 13.35], '汉钟精机': [0, 9.89], '鲁北化工': [0, 7.33], '亚厦股份': [0, 6.2], '美尔雅': [0, 6.65], '海正药业': [0, 16.0], '东北制药': [0, 7.94], '中粮科技': [0, 7.35], '广日股份': [0, 7.14], '粤 水 电': [0, 3.12], '国统股份': [0, 15.57], '中船防务': [0, 14.0], '招商轮船': [0, 6.47], '大西洋': [0, 3.1], '国机汽车': [0, 5.55], '京投发展': [1000, 4.19]}\n",
            "20200413 {'中铁二局': [0, 13.12], '东兴证券': [0, 24.12], '远大智能': [0, 8.09], '东吴证券': [0, 12.56], '三一重工': [0, 5.49], '兴业矿业': [0, 8.36], '东方航空': [0, 7.0], '青岛海尔': [0, 9.95], '云铝股份': [0, 7.19], '山鹰纸业': [0, 2.92], '万通地产': [0, 4.92], '光环新网': [0, 40.87], '西安民生': [0, 10.05], '山西证券': [0, 14.39], '中 关 村': [0, 8.63], '中航资本': [0, 6.94], '日出东方': [0, 10.357000000000001], '国元证券': [0, 20.47], '盈峰环境': [0, 14.85], '双星新材': [0, 11.02], '蓝思科技': [0, 27.72], '珠江啤酒': [0, 13.4], '久其软件': [0, 18.28], '中国银河': [0, 12.43], '华安证券': [0, 10.6], '恒力股份': [0, 7.64], '网宿科技': [0, 11.41], '黑猫股份': [0, 8.0], '山西焦化': [0, 7.11], '飞乐音响': [0, 9.02], '金刚玻璃': [0, 16.95], '中信证券': [0, 16.73], '爱施德': [0, 6.0], '华泰证券': [0, 15.65], '常铝股份': [0, 4.16], '中国中期': [0, 9.63], '广发证券': [0, 13.35], '汉钟精机': [0, 9.89], '鲁北化工': [0, 7.33], '亚厦股份': [0, 6.2], '美尔雅': [0, 6.65], '海正药业': [0, 16.0], '东北制药': [0, 7.94], '中粮科技': [0, 7.35], '广日股份': [0, 7.14], '粤 水 电': [0, 3.12], '国统股份': [0, 15.57], '中船防务': [0, 14.0], '招商轮船': [0, 6.47], '大西洋': [0, 3.1], '国机汽车': [0, 5.55], '京投发展': [1000, 4.19], '巨星科技': [2000, 10.56]}\n",
            "20200424 {'中铁二局': [0, 13.12], '东兴证券': [0, 24.12], '远大智能': [0, 8.09], '东吴证券': [0, 12.56], '三一重工': [0, 5.49], '兴业矿业': [0, 8.36], '东方航空': [0, 7.0], '青岛海尔': [0, 9.95], '云铝股份': [0, 7.19], '山鹰纸业': [0, 2.92], '万通地产': [0, 4.92], '光环新网': [0, 40.87], '西安民生': [0, 10.05], '山西证券': [0, 14.39], '中 关 村': [0, 8.63], '中航资本': [0, 6.94], '日出东方': [0, 10.357000000000001], '国元证券': [0, 20.47], '盈峰环境': [0, 14.85], '双星新材': [0, 11.02], '蓝思科技': [0, 27.72], '珠江啤酒': [0, 13.4], '久其软件': [0, 18.28], '中国银河': [0, 12.43], '华安证券': [0, 10.6], '恒力股份': [0, 7.64], '网宿科技': [0, 11.41], '黑猫股份': [0, 8.0], '山西焦化': [0, 7.11], '飞乐音响': [0, 9.02], '金刚玻璃': [0, 16.95], '中信证券': [0, 16.73], '爱施德': [0, 6.0], '华泰证券': [0, 15.65], '常铝股份': [0, 4.16], '中国中期': [0, 9.63], '广发证券': [0, 13.35], '汉钟精机': [0, 9.89], '鲁北化工': [0, 7.33], '亚厦股份': [0, 6.2], '美尔雅': [0, 6.65], '海正药业': [0, 16.0], '东北制药': [0, 7.94], '中粮科技': [0, 7.35], '广日股份': [0, 7.14], '粤 水 电': [0, 3.12], '国统股份': [0, 15.57], '中船防务': [0, 14.0], '招商轮船': [0, 6.47], '大西洋': [0, 3.1], '国机汽车': [0, 5.55], '京投发展': [0, 3.87], '巨星科技': [2000, 10.56]}\n",
            "20200424 {'中铁二局': [0, 13.12], '东兴证券': [0, 24.12], '远大智能': [0, 8.09], '东吴证券': [0, 12.56], '三一重工': [0, 5.49], '兴业矿业': [0, 8.36], '东方航空': [0, 7.0], '青岛海尔': [0, 9.95], '云铝股份': [0, 7.19], '山鹰纸业': [0, 2.92], '万通地产': [0, 4.92], '光环新网': [0, 40.87], '西安民生': [0, 10.05], '山西证券': [0, 14.39], '中 关 村': [0, 8.63], '中航资本': [0, 6.94], '日出东方': [0, 10.357000000000001], '国元证券': [0, 20.47], '盈峰环境': [0, 14.85], '双星新材': [0, 11.02], '蓝思科技': [0, 27.72], '珠江啤酒': [0, 13.4], '久其软件': [0, 18.28], '中国银河': [0, 12.43], '华安证券': [0, 10.6], '恒力股份': [0, 7.64], '网宿科技': [0, 11.41], '黑猫股份': [0, 8.0], '山西焦化': [0, 7.11], '飞乐音响': [0, 9.02], '金刚玻璃': [0, 16.95], '中信证券': [0, 16.73], '爱施德': [0, 6.0], '华泰证券': [0, 15.65], '常铝股份': [0, 4.16], '中国中期': [0, 9.63], '广发证券': [0, 13.35], '汉钟精机': [0, 9.89], '鲁北化工': [0, 7.33], '亚厦股份': [0, 6.2], '美尔雅': [0, 6.65], '海正药业': [0, 16.0], '东北制药': [0, 7.94], '中粮科技': [0, 7.35], '广日股份': [0, 7.14], '粤 水 电': [0, 3.12], '国统股份': [0, 15.57], '中船防务': [0, 14.0], '招商轮船': [0, 6.47], '大西洋': [0, 3.1], '国机汽车': [0, 5.55], '京投发展': [0, 3.87], '巨星科技': [0, 9.69]}\n"
          ],
          "name": "stdout"
        }
      ]
    },
    {
      "cell_type": "code",
      "metadata": {
        "id": "5RO-fISA6CwS",
        "colab_type": "code",
        "colab": {
          "base_uri": "https://localhost:8080/",
          "height": 238
        },
        "outputId": "72ee0362-73a1-4d42-ddae-23ddfa19bdb4"
      },
      "source": [
        "bt_returns=df2.perc_returns\n",
        "bt_returns"
      ],
      "execution_count": null,
      "outputs": [
        {
          "output_type": "execute_result",
          "data": {
            "text/plain": [
              "Transaction Date\n",
              "2016-01-12   -0.000266\n",
              "2016-01-12   -0.002351\n",
              "2016-01-22    0.049143\n",
              "2016-01-22   -0.033038\n",
              "2016-01-25   -0.006999\n",
              "                ...   \n",
              "2020-04-09    0.000632\n",
              "2020-04-13   -0.000118\n",
              "2020-04-13   -0.000147\n",
              "2020-04-24   -0.007647\n",
              "2020-04-24   -0.041350\n",
              "Name: perc_returns, Length: 172, dtype: float64"
            ]
          },
          "metadata": {
            "tags": []
          },
          "execution_count": 6
        }
      ]
    },
    {
      "cell_type": "code",
      "metadata": {
        "id": "3PQNz6CP62AV",
        "colab_type": "code",
        "colab": {
          "base_uri": "https://localhost:8080/",
          "height": 304
        },
        "outputId": "982b158c-a797-482e-87d5-d4dcdb5fe079"
      },
      "source": [
        "# Cumulative Returns\n",
        "#fig = plt.figure(1)\n",
        "\n",
        "plt.subplot(2,1,1)\n",
        "pf.plotting.plot_rolling_returns(bt_returns)\n",
        "\n",
        "# Daily, Non-Cumulative Returns\n",
        "plt.subplot(2,1,2)\n",
        "pf.plotting.plot_returns(bt_returns)\n",
        "plt.tight_layout()\n",
        "#fig.set_size_inches(35,20)\n"
      ],
      "execution_count": null,
      "outputs": [
        {
          "output_type": "display_data",
          "data": {
            "image/png": "[encoded data removed]",
            "text/plain": [
              "<Figure size 432x288 with 2 Axes>"
            ]
          },
          "metadata": {
            "tags": [],
            "needs_background": "light"
          }
        }
      ]
    },
    {
      "cell_type": "code",
      "metadata": {
        "id": "g0_0nfXr7WW-",
        "colab_type": "code",
        "colab": {
          "base_uri": "https://localhost:8080/",
          "height": 349
        },
        "outputId": "551c8587-e3bb-47d8-ae6f-e9b6147dfda4"
      },
      "source": [
        "fig = plt.figure(1)\n",
        "plt.subplot(1,3,1)\n",
        "pf.plot_annual_returns(bt_returns)\n",
        "plt.subplot(1,3,2)\n",
        "pf.plot_monthly_returns_dist(bt_returns)\n",
        "plt.subplot(1,3,3)\n",
        "pf.plot_monthly_returns_heatmap(bt_returns)\n",
        "plt.tight_layout()\n",
        "fig.set_size_inches(35,10)"
      ],
      "execution_count": null,
      "outputs": [
        {
          "output_type": "display_data",
          "data": {
            "image/png": "[encoded data removed]",
            "text/plain": [
              "<Figure size 2520x720 with 3 Axes>"
            ]
          },
          "metadata": {
            "tags": [],
            "needs_background": "light"
          }
        }
      ]
    },
    {
      "cell_type": "code",
      "metadata": {
        "id": "m_Km4dAHrggY",
        "colab_type": "code",
        "colab": {
          "base_uri": "https://localhost:8080/",
          "height": 281
        },
        "outputId": "d7961771-bcfa-40c7-9bd8-3de615f64aa0"
      },
      "source": [
        "pf.plot_return_quantiles(bt_returns);\n"
      ],
      "execution_count": null,
      "outputs": [
        {
          "output_type": "display_data",
          "data": {
            "image/png": "[encoded data removed]",
            "text/plain": [
              "<Figure size 432x288 with 1 Axes>"
            ]
          },
          "metadata": {
            "tags": [],
            "needs_background": "light"
          }
        }
      ]
    },
    {
      "cell_type": "code",
      "metadata": {
        "id": "xEQRYtg8698E",
        "colab_type": "code",
        "colab": {
          "base_uri": "https://localhost:8080/",
          "height": 279
        },
        "outputId": "cc76ee7c-a89b-44cb-8c1d-e9829d908afd"
      },
      "source": [
        "pf.plot_rolling_sharpe(bt_returns);"
      ],
      "execution_count": null,
      "outputs": [
        {
          "output_type": "display_data",
          "data": {
            "image/png": "[encoded data removed]",
            "text/plain": [
              "<Figure size 432x288 with 1 Axes>"
            ]
          },
          "metadata": {
            "tags": [],
            "needs_background": "light"
          }
        }
      ]
    },
    {
      "cell_type": "code",
      "metadata": {
        "id": "Oh_aqjVXAotu",
        "colab_type": "code",
        "colab": {
          "base_uri": "https://localhost:8080/",
          "height": 153
        },
        "outputId": "247b5f75-abb0-4c64-e7f0-bb8f76b19fa3"
      },
      "source": [
        "bt_returns.index"
      ],
      "execution_count": null,
      "outputs": [
        {
          "output_type": "execute_result",
          "data": {
            "text/plain": [
              "DatetimeIndex(['2016-01-12', '2016-01-12', '2016-01-22', '2016-01-22',\n",
              "               '2016-01-25', '2016-01-27', '2016-01-28', '2016-01-28',\n",
              "               '2016-01-28', '2016-02-17',\n",
              "               ...\n",
              "               '2020-04-01', '2020-04-02', '2020-04-02', '2020-04-02',\n",
              "               '2020-04-07', '2020-04-09', '2020-04-13', '2020-04-13',\n",
              "               '2020-04-24', '2020-04-24'],\n",
              "              dtype='datetime64[ns]', name='Transaction Date', length=172, freq=None)"
            ]
          },
          "metadata": {
            "tags": []
          },
          "execution_count": 11
        }
      ]
    },
    {
      "cell_type": "code",
      "metadata": {
        "id": "SZqZTFS0ku3p",
        "colab_type": "code",
        "colab": {
          "base_uri": "https://localhost:8080/",
          "height": 279
        },
        "outputId": "ccb52ca5-8e65-42a1-ee70-932eae2680ad"
      },
      "source": [
        "pf.plot_drawdown_underwater(bt_returns);\n"
      ],
      "execution_count": null,
      "outputs": [
        {
          "output_type": "display_data",
          "data": {
            "image/png": "[encoded data removed]",
            "text/plain": [
              "<Figure size 432x288 with 1 Axes>"
            ]
          },
          "metadata": {
            "tags": [],
            "needs_background": "light"
          }
        }
      ]
    },
    {
      "cell_type": "code",
      "metadata": {
        "id": "iiCfgV1HlDwY",
        "colab_type": "code",
        "colab": {
          "base_uri": "https://localhost:8080/",
          "height": 377
        },
        "outputId": "9b1175a9-c07b-4a8c-f58a-bb126517baa5"
      },
      "source": [
        "!pip install yfinance"
      ],
      "execution_count": null,
      "outputs": [
        {
          "output_type": "stream",
          "text": [
            "Collecting yfinance\n",
            "  Downloading https://files.pythonhosted.org/packages/c2/31/8b374a12b90def92a4e27d0fc595fc43635f395984e36a075244d98bd265/yfinance-0.1.54.tar.gz\n",
            "Requirement already satisfied: pandas>=0.24 in /usr/local/lib/python3.6/dist-packages (from yfinance) (1.0.5)\n",
            "Requirement already satisfied: numpy>=1.15 in /usr/local/lib/python3.6/dist-packages (from yfinance) (1.18.5)\n",
            "Requirement already satisfied: requests>=2.20 in /usr/local/lib/python3.6/dist-packages (from yfinance) (2.23.0)\n",
            "Requirement already satisfied: multitasking>=0.0.7 in /usr/local/lib/python3.6/dist-packages (from yfinance) (0.0.9)\n",
            "Requirement already satisfied: pytz>=2017.2 in /usr/local/lib/python3.6/dist-packages (from pandas>=0.24->yfinance) (2018.9)\n",
            "Requirement already satisfied: python-dateutil>=2.6.1 in /usr/local/lib/python3.6/dist-packages (from pandas>=0.24->yfinance) (2.8.1)\n",
            "Requirement already satisfied: urllib3!=1.25.0,!=1.25.1,<1.26,>=1.21.1 in /usr/local/lib/python3.6/dist-packages (from requests>=2.20->yfinance) (1.24.3)\n",
            "Requirement already satisfied: chardet<4,>=3.0.2 in /usr/local/lib/python3.6/dist-packages (from requests>=2.20->yfinance) (3.0.4)\n",
            "Requirement already satisfied: idna<3,>=2.5 in /usr/local/lib/python3.6/dist-packages (from requests>=2.20->yfinance) (2.10)\n",
            "Requirement already satisfied: certifi>=2017.4.17 in /usr/local/lib/python3.6/dist-packages (from requests>=2.20->yfinance) (2020.6.20)\n",
            "Requirement already satisfied: six>=1.5 in /usr/local/lib/python3.6/dist-packages (from python-dateutil>=2.6.1->pandas>=0.24->yfinance) (1.12.0)\n",
            "Building wheels for collected packages: yfinance\n",
            "  Building wheel for yfinance (setup.py) ... \u001b[?25l\u001b[?25hdone\n",
            "  Created wheel for yfinance: filename=yfinance-0.1.54-py2.py3-none-any.whl size=22409 sha256=4bc2a168e0aa0582ee524e96d8a13368ceb07ed81d813607698b4f4405c846ac\n",
            "  Stored in directory: /root/.cache/pip/wheels/f9/e3/5b/ec24dd2984b12d61e0abf26289746c2436a0e7844f26f2515c\n",
            "Successfully built yfinance\n",
            "Installing collected packages: yfinance\n",
            "Successfully installed yfinance-0.1.54\n"
          ],
          "name": "stdout"
        }
      ]
    },
    {
      "cell_type": "code",
      "metadata": {
        "id": "mgm1oy9KwYdA",
        "colab_type": "code",
        "colab": {
          "base_uri": "https://localhost:8080/",
          "height": 532
        },
        "outputId": "3a39c662-0f15-4065-d54f-e4b054d61361"
      },
      "source": [
        "import yfinance as yf\n",
        "data = yf.download(\"600528.SS\", start=\"2017-01-01\", end=\"2017-04-30\")\n",
        "data[\"Close\"]\n",
        "a=yf.download(\"600683.SS\", start=\"2017-01-01\", end=\"2017-04-30\")\n",
        "a[\"Close\"]\n",
        "b=pd.concat([data.Close, a.Close],axis=1)\n",
        "b\n",
        "data = yf.download(  # or pdr.get_data_yahoo(...\n",
        "        # tickers list or string as well\n",
        "        tickers = \"SPY AAPL MSFT\",\n",
        "\n",
        "        # use \"period\" instead of start/end\n",
        "        # valid periods: 1d,5d,1mo,3mo,6mo,1y,2y,5y,10y,ytd,max\n",
        "        # (optional, default is '1mo')\n",
        "        period = \"1d\",\n",
        "\n",
        "        # fetch data by interval (including intraday if period < 60 days)\n",
        "        # valid intervals: 1m,2m,5m,15m,30m,60m,90m,1h,1d,5d,1wk,1mo,3mo\n",
        "        # (optional, default is '1d')\n",
        "        interval = \"1m\",\n",
        "\n",
        "        # group by ticker (to access via data['SPY'])\n",
        "        # (optional, default is 'column')\n",
        "        group_by = 'ticker',\n",
        "\n",
        "        # adjust all OHLC automatically\n",
        "        # (optional, default is False)\n",
        "        auto_adjust = True,\n",
        "\n",
        "        # download pre/post regular market hours data\n",
        "        # (optional, default is False)\n",
        "        prepost = True,\n",
        "\n",
        "        # use threads for mass downloading? (True/False/Integer)\n",
        "        # (optional, default is True)\n",
        "        threads = True,\n",
        "\n",
        "        # proxy URL scheme use use when downloading?\n",
        "        # (optional, default is None)\n",
        "        proxy = None\n",
        "    )\n",
        "data"
      ],
      "execution_count": null,
      "outputs": [
        {
          "output_type": "stream",
          "text": [
            "[*********************100%***********************]  1 of 1 completed\n",
            "[*********************100%***********************]  1 of 1 completed\n",
            "[*********************100%***********************]  3 of 3 completed\n"
          ],
          "name": "stdout"
        },
        {
          "output_type": "execute_result",
          "data": {
            "text/html": [
              "<div>\n",
              "<style scoped>\n",
              "    .dataframe tbody tr th:only-of-type {\n",
              "        vertical-align: middle;\n",
              "    }\n",
              "\n",
              "    .dataframe tbody tr th {\n",
              "        vertical-align: top;\n",
              "    }\n",
              "\n",
              "    .dataframe thead tr th {\n",
              "        text-align: left;\n",
              "    }\n",
              "\n",
              "    .dataframe thead tr:last-of-type th {\n",
              "        text-align: right;\n",
              "    }\n",
              "</style>\n",
              "<table border=\"1\" class=\"dataframe\">\n",
              "  <thead>\n",
              "    <tr>\n",
              "      <th></th>\n",
              "      <th colspan=\"5\" halign=\"left\">SPY</th>\n",
              "      <th colspan=\"5\" halign=\"left\">MSFT</th>\n",
              "      <th colspan=\"5\" halign=\"left\">AAPL</th>\n",
              "    </tr>\n",
              "    <tr>\n",
              "      <th></th>\n",
              "      <th>Open</th>\n",
              "      <th>High</th>\n",
              "      <th>Low</th>\n",
              "      <th>Close</th>\n",
              "      <th>Volume</th>\n",
              "      <th>Open</th>\n",
              "      <th>High</th>\n",
              "      <th>Low</th>\n",
              "      <th>Close</th>\n",
              "      <th>Volume</th>\n",
              "      <th>Open</th>\n",
              "      <th>High</th>\n",
              "      <th>Low</th>\n",
              "      <th>Close</th>\n",
              "      <th>Volume</th>\n",
              "    </tr>\n",
              "    <tr>\n",
              "      <th>Datetime</th>\n",
              "      <th></th>\n",
              "      <th></th>\n",
              "      <th></th>\n",
              "      <th></th>\n",
              "      <th></th>\n",
              "      <th></th>\n",
              "      <th></th>\n",
              "      <th></th>\n",
              "      <th></th>\n",
              "      <th></th>\n",
              "      <th></th>\n",
              "      <th></th>\n",
              "      <th></th>\n",
              "      <th></th>\n",
              "      <th></th>\n",
              "    </tr>\n",
              "  </thead>\n",
              "  <tbody>\n",
              "    <tr>\n",
              "      <th>2020-07-17 04:00:00-04:00</th>\n",
              "      <td>NaN</td>\n",
              "      <td>NaN</td>\n",
              "      <td>NaN</td>\n",
              "      <td>NaN</td>\n",
              "      <td>NaN</td>\n",
              "      <td>NaN</td>\n",
              "      <td>NaN</td>\n",
              "      <td>NaN</td>\n",
              "      <td>NaN</td>\n",
              "      <td>NaN</td>\n",
              "      <td>385.15</td>\n",
              "      <td>385.15</td>\n",
              "      <td>385.15</td>\n",
              "      <td>385.15</td>\n",
              "      <td>0.0</td>\n",
              "    </tr>\n",
              "    <tr>\n",
              "      <th>2020-07-17 04:01:00-04:00</th>\n",
              "      <td>NaN</td>\n",
              "      <td>NaN</td>\n",
              "      <td>NaN</td>\n",
              "      <td>NaN</td>\n",
              "      <td>NaN</td>\n",
              "      <td>NaN</td>\n",
              "      <td>NaN</td>\n",
              "      <td>NaN</td>\n",
              "      <td>NaN</td>\n",
              "      <td>NaN</td>\n",
              "      <td>385.02</td>\n",
              "      <td>385.02</td>\n",
              "      <td>385.02</td>\n",
              "      <td>385.02</td>\n",
              "      <td>0.0</td>\n",
              "    </tr>\n",
              "    <tr>\n",
              "      <th>2020-07-17 04:06:00-04:00</th>\n",
              "      <td>NaN</td>\n",
              "      <td>NaN</td>\n",
              "      <td>NaN</td>\n",
              "      <td>NaN</td>\n",
              "      <td>NaN</td>\n",
              "      <td>203.6000</td>\n",
              "      <td>203.6000</td>\n",
              "      <td>203.6000</td>\n",
              "      <td>203.6000</td>\n",
              "      <td>0.0</td>\n",
              "      <td>NaN</td>\n",
              "      <td>NaN</td>\n",
              "      <td>NaN</td>\n",
              "      <td>NaN</td>\n",
              "      <td>NaN</td>\n",
              "    </tr>\n",
              "    <tr>\n",
              "      <th>2020-07-17 04:11:00-04:00</th>\n",
              "      <td>NaN</td>\n",
              "      <td>NaN</td>\n",
              "      <td>NaN</td>\n",
              "      <td>NaN</td>\n",
              "      <td>NaN</td>\n",
              "      <td>203.8700</td>\n",
              "      <td>203.8700</td>\n",
              "      <td>203.8700</td>\n",
              "      <td>203.8700</td>\n",
              "      <td>0.0</td>\n",
              "      <td>NaN</td>\n",
              "      <td>NaN</td>\n",
              "      <td>NaN</td>\n",
              "      <td>NaN</td>\n",
              "      <td>NaN</td>\n",
              "    </tr>\n",
              "    <tr>\n",
              "      <th>2020-07-17 04:15:00-04:00</th>\n",
              "      <td>319.66</td>\n",
              "      <td>319.67</td>\n",
              "      <td>319.60</td>\n",
              "      <td>319.67</td>\n",
              "      <td>0.0</td>\n",
              "      <td>NaN</td>\n",
              "      <td>NaN</td>\n",
              "      <td>NaN</td>\n",
              "      <td>NaN</td>\n",
              "      <td>NaN</td>\n",
              "      <td>NaN</td>\n",
              "      <td>NaN</td>\n",
              "      <td>NaN</td>\n",
              "      <td>NaN</td>\n",
              "      <td>NaN</td>\n",
              "    </tr>\n",
              "    <tr>\n",
              "      <th>...</th>\n",
              "      <td>...</td>\n",
              "      <td>...</td>\n",
              "      <td>...</td>\n",
              "      <td>...</td>\n",
              "      <td>...</td>\n",
              "      <td>...</td>\n",
              "      <td>...</td>\n",
              "      <td>...</td>\n",
              "      <td>...</td>\n",
              "      <td>...</td>\n",
              "      <td>...</td>\n",
              "      <td>...</td>\n",
              "      <td>...</td>\n",
              "      <td>...</td>\n",
              "      <td>...</td>\n",
              "    </tr>\n",
              "    <tr>\n",
              "      <th>2020-07-17 16:45:00-04:00</th>\n",
              "      <td>321.50</td>\n",
              "      <td>321.51</td>\n",
              "      <td>321.30</td>\n",
              "      <td>321.49</td>\n",
              "      <td>0.0</td>\n",
              "      <td>202.7009</td>\n",
              "      <td>202.7009</td>\n",
              "      <td>202.7009</td>\n",
              "      <td>202.7009</td>\n",
              "      <td>0.0</td>\n",
              "      <td>385.00</td>\n",
              "      <td>385.00</td>\n",
              "      <td>384.97</td>\n",
              "      <td>384.97</td>\n",
              "      <td>0.0</td>\n",
              "    </tr>\n",
              "    <tr>\n",
              "      <th>2020-07-17 16:46:00-04:00</th>\n",
              "      <td>321.51</td>\n",
              "      <td>321.58</td>\n",
              "      <td>321.46</td>\n",
              "      <td>321.58</td>\n",
              "      <td>0.0</td>\n",
              "      <td>202.7000</td>\n",
              "      <td>202.7000</td>\n",
              "      <td>202.7000</td>\n",
              "      <td>202.7000</td>\n",
              "      <td>0.0</td>\n",
              "      <td>385.00</td>\n",
              "      <td>385.00</td>\n",
              "      <td>384.99</td>\n",
              "      <td>385.00</td>\n",
              "      <td>0.0</td>\n",
              "    </tr>\n",
              "    <tr>\n",
              "      <th>2020-07-17 16:47:00-04:00</th>\n",
              "      <td>321.52</td>\n",
              "      <td>321.63</td>\n",
              "      <td>321.52</td>\n",
              "      <td>321.58</td>\n",
              "      <td>0.0</td>\n",
              "      <td>NaN</td>\n",
              "      <td>NaN</td>\n",
              "      <td>NaN</td>\n",
              "      <td>NaN</td>\n",
              "      <td>NaN</td>\n",
              "      <td>385.06</td>\n",
              "      <td>385.10</td>\n",
              "      <td>385.00</td>\n",
              "      <td>385.00</td>\n",
              "      <td>0.0</td>\n",
              "    </tr>\n",
              "    <tr>\n",
              "      <th>2020-07-17 16:48:00-04:00</th>\n",
              "      <td>321.64</td>\n",
              "      <td>321.70</td>\n",
              "      <td>321.64</td>\n",
              "      <td>321.67</td>\n",
              "      <td>0.0</td>\n",
              "      <td>202.6600</td>\n",
              "      <td>202.6600</td>\n",
              "      <td>202.6500</td>\n",
              "      <td>202.6500</td>\n",
              "      <td>0.0</td>\n",
              "      <td>384.95</td>\n",
              "      <td>384.95</td>\n",
              "      <td>384.95</td>\n",
              "      <td>384.95</td>\n",
              "      <td>0.0</td>\n",
              "    </tr>\n",
              "    <tr>\n",
              "      <th>2020-07-17 16:49:00-04:00</th>\n",
              "      <td>321.68</td>\n",
              "      <td>321.68</td>\n",
              "      <td>321.59</td>\n",
              "      <td>321.64</td>\n",
              "      <td>0.0</td>\n",
              "      <td>202.7000</td>\n",
              "      <td>202.7000</td>\n",
              "      <td>202.6300</td>\n",
              "      <td>202.7000</td>\n",
              "      <td>0.0</td>\n",
              "      <td>NaN</td>\n",
              "      <td>NaN</td>\n",
              "      <td>NaN</td>\n",
              "      <td>NaN</td>\n",
              "      <td>NaN</td>\n",
              "    </tr>\n",
              "  </tbody>\n",
              "</table>\n",
              "<p>677 rows × 15 columns</p>\n",
              "</div>"
            ],
            "text/plain": [
              "                              SPY                  ...    AAPL               \n",
              "                             Open    High     Low  ...     Low   Close Volume\n",
              "Datetime                                           ...                       \n",
              "2020-07-17 04:00:00-04:00     NaN     NaN     NaN  ...  385.15  385.15    0.0\n",
              "2020-07-17 04:01:00-04:00     NaN     NaN     NaN  ...  385.02  385.02    0.0\n",
              "2020-07-17 04:06:00-04:00     NaN     NaN     NaN  ...     NaN     NaN    NaN\n",
              "2020-07-17 04:11:00-04:00     NaN     NaN     NaN  ...     NaN     NaN    NaN\n",
              "2020-07-17 04:15:00-04:00  319.66  319.67  319.60  ...     NaN     NaN    NaN\n",
              "...                           ...     ...     ...  ...     ...     ...    ...\n",
              "2020-07-17 16:45:00-04:00  321.50  321.51  321.30  ...  384.97  384.97    0.0\n",
              "2020-07-17 16:46:00-04:00  321.51  321.58  321.46  ...  384.99  385.00    0.0\n",
              "2020-07-17 16:47:00-04:00  321.52  321.63  321.52  ...  385.00  385.00    0.0\n",
              "2020-07-17 16:48:00-04:00  321.64  321.70  321.64  ...  384.95  384.95    0.0\n",
              "2020-07-17 16:49:00-04:00  321.68  321.68  321.59  ...     NaN     NaN    NaN\n",
              "\n",
              "[677 rows x 15 columns]"
            ]
          },
          "metadata": {
            "tags": []
          },
          "execution_count": 14
        }
      ]
    }
  ]
}